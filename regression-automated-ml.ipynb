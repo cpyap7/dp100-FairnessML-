{
  "cells": [
    {
      "cell_type": "markdown",
      "source": [
        "Copyright (c) Microsoft Corporation. All rights reserved."
      ],
      "metadata": {}
    },
    {
      "cell_type": "markdown",
      "source": [
        "![Impressions](https://PixelServer20190423114238.azurewebsites.net/api/impressions/NotebookVM/tutorials/regression-part2-automated-ml.png)"
      ],
      "metadata": {}
    },
    {
      "cell_type": "markdown",
      "source": [
        "# Tutorial: Use automated machine learning to predict taxi fares"
      ],
      "metadata": {}
    },
    {
      "cell_type": "markdown",
      "source": [
        "In this tutorial, you use automated machine learning in Azure Machine Learning service to create a regression model to predict NYC taxi fare prices. This process accepts training data and configuration settings, and automatically iterates through combinations of different feature normalization/standardization methods, models, and hyperparameter settings to arrive at the best model.\n",
        "\n",
        "In this tutorial you learn the following tasks:\n",
        "\n",
        "* Download, transform, and clean data using Azure Open Datasets\n",
        "* Train an automated machine learning regression model\n",
        "* Calculate model accuracy\n",
        "\n",
        "If you donâ€™t have an Azure subscription, create a free account before you begin. Try the [free or paid version](https://aka.ms/AMLFree) of Azure Machine Learning service today."
      ],
      "metadata": {}
    },
    {
      "cell_type": "markdown",
      "source": [
        "## Prerequisites"
      ],
      "metadata": {}
    },
    {
      "cell_type": "markdown",
      "source": [
        "* Complete the [setup tutorial](https://docs.microsoft.com/azure/machine-learning/service/tutorial-1st-experiment-sdk-setup) if you don't already have an Azure Machine Learning service workspace or notebook virtual machine.\n",
        "* After you complete the setup tutorial, open the **tutorials/regression-automated-ml.ipynb** notebook using the same notebook server.\n",
        "\n",
        "This tutorial is also available on [GitHub](https://github.com/Azure/MachineLearningNotebooks/tree/master/tutorials) if you wish to run it in your own [local environment](https://github.com/Azure/MachineLearningNotebooks/blob/master/how-to-use-azureml/automated-machine-learning/README.md#setup-using-a-local-conda-environment)."
      ],
      "metadata": {}
    },
    {
      "cell_type": "markdown",
      "source": [
        "## Download and prepare data"
      ],
      "metadata": {}
    },
    {
      "cell_type": "code",
      "source": [
        "pip install azureml-opendatasets azureml-widgets"
      ],
      "outputs": [
        {
          "output_type": "stream",
          "name": "stdout",
          "text": "Requirement already satisfied: azureml-opendatasets in /anaconda/envs/azureml_py36/lib/python3.6/site-packages (1.36.0)\nRequirement already satisfied: azureml-widgets in /anaconda/envs/azureml_py36/lib/python3.6/site-packages (1.36.0)\nRequirement already satisfied: azureml-telemetry~=1.36.0 in /anaconda/envs/azureml_py36/lib/python3.6/site-packages (from azureml-opendatasets) (1.36.0)\nRequirement already satisfied: azureml-core~=1.36.0 in /anaconda/envs/azureml_py36/lib/python3.6/site-packages (from azureml-opendatasets) (1.36.0.post2)\nRequirement already satisfied: pyarrow>=0.16.0 in /anaconda/envs/azureml_py36/lib/python3.6/site-packages (from azureml-opendatasets) (3.0.0)\nRequirement already satisfied: scipy<=2.0.0,>=1.0.0 in /anaconda/envs/azureml_py36/lib/python3.6/site-packages (from azureml-opendatasets) (1.5.2)\nRequirement already satisfied: pandas<=2.0.0,>=0.21.0 in /anaconda/envs/azureml_py36/lib/python3.6/site-packages (from azureml-opendatasets) (0.25.3)\nRequirement already satisfied: pyspark in /anaconda/envs/azureml_py36/lib/python3.6/site-packages (from azureml-opendatasets) (3.2.0)\nRequirement already satisfied: numpy<=2.0.0,>=1.16.0 in /anaconda/envs/azureml_py36/lib/python3.6/site-packages (from azureml-opendatasets) (1.18.5)\nRequirement already satisfied: azureml-dataset-runtime[fuse,pandas]~=1.36.0 in /anaconda/envs/azureml_py36/lib/python3.6/site-packages (from azureml-opendatasets) (1.36.0)\nRequirement already satisfied: azure-storage-blob>=12.6.0 in /anaconda/envs/azureml_py36/lib/python3.6/site-packages (from azureml-widgets) (12.9.0)\nRequirement already satisfied: ipywidgets>=7.0.0 in /anaconda/envs/azureml_py36/lib/python3.6/site-packages (from azureml-widgets) (7.6.5)\nRequirement already satisfied: applicationinsights in /anaconda/envs/azureml_py36/lib/python3.6/site-packages (from azureml-telemetry~=1.36.0->azureml-opendatasets) (0.11.10)\nRequirement already satisfied: azure-mgmt-authorization<1.0.0,>=0.40.0 in /anaconda/envs/azureml_py36/lib/python3.6/site-packages (from azureml-core~=1.36.0->azureml-opendatasets) (0.61.0)\nRequirement already satisfied: azure-mgmt-resource<15.0.0,>=1.2.1 in /anaconda/envs/azureml_py36/lib/python3.6/site-packages (from azureml-core~=1.36.0->azureml-opendatasets) (13.0.0)\nRequirement already satisfied: msrestazure<=0.6.4,>=0.4.33 in /anaconda/envs/azureml_py36/lib/python3.6/site-packages (from azureml-core~=1.36.0->azureml-opendatasets) (0.6.4)\nRequirement already satisfied: pytz in /anaconda/envs/azureml_py36/lib/python3.6/site-packages (from azureml-core~=1.36.0->azureml-opendatasets) (2021.3)\nRequirement already satisfied: PyJWT<3.0.0 in /anaconda/envs/azureml_py36/lib/python3.6/site-packages (from azureml-core~=1.36.0->azureml-opendatasets) (2.3.0)\nRequirement already satisfied: msrest<1.0.0,>=0.5.1 in /anaconda/envs/azureml_py36/lib/python3.6/site-packages (from azureml-core~=1.36.0->azureml-opendatasets) (0.6.21)\nRequirement already satisfied: backports.tempfile in /anaconda/envs/azureml_py36/lib/python3.6/site-packages (from azureml-core~=1.36.0->azureml-opendatasets) (1.0)\nRequirement already satisfied: adal<=1.2.7,>=1.2.0 in /anaconda/envs/azureml_py36/lib/python3.6/site-packages (from azureml-core~=1.36.0->azureml-opendatasets) (1.2.7)\nRequirement already satisfied: jsonpickle<3.0.0 in /anaconda/envs/azureml_py36/lib/python3.6/site-packages (from azureml-core~=1.36.0->azureml-opendatasets) (2.0.0)\nRequirement already satisfied: requests<3.0.0,>=2.19.1 in /anaconda/envs/azureml_py36/lib/python3.6/site-packages (from azureml-core~=1.36.0->azureml-opendatasets) (2.26.0)\nRequirement already satisfied: python-dateutil<3.0.0,>=2.7.3 in /anaconda/envs/azureml_py36/lib/python3.6/site-packages (from azureml-core~=1.36.0->azureml-opendatasets) (2.8.2)\nRequirement already satisfied: azure-mgmt-containerregistry>=2.0.0 in /anaconda/envs/azureml_py36/lib/python3.6/site-packages (from azureml-core~=1.36.0->azureml-opendatasets) (8.2.0)\nRequirement already satisfied: jmespath<1.0.0 in /anaconda/envs/azureml_py36/lib/python3.6/site-packages (from azureml-core~=1.36.0->azureml-opendatasets) (0.10.0)\nRequirement already satisfied: SecretStorage<4.0.0 in /anaconda/envs/azureml_py36/lib/python3.6/site-packages (from azureml-core~=1.36.0->azureml-opendatasets) (3.3.1)\nRequirement already satisfied: docker<6.0.0 in /anaconda/envs/azureml_py36/lib/python3.6/site-packages (from azureml-core~=1.36.0->azureml-opendatasets) (5.0.3)\nRequirement already satisfied: azure-graphrbac<1.0.0,>=0.40.0 in /anaconda/envs/azureml_py36/lib/python3.6/site-packages (from azureml-core~=1.36.0->azureml-opendatasets) (0.61.1)\nRequirement already satisfied: azure-mgmt-keyvault<10.0.0,>=0.40.0 in /anaconda/envs/azureml_py36/lib/python3.6/site-packages (from azureml-core~=1.36.0->azureml-opendatasets) (9.2.0)\nRequirement already satisfied: pathspec<1.0.0 in /anaconda/envs/azureml_py36/lib/python3.6/site-packages (from azureml-core~=1.36.0->azureml-opendatasets) (0.9.0)\nRequirement already satisfied: ndg-httpsclient<=0.5.1 in /anaconda/envs/azureml_py36/lib/python3.6/site-packages (from azureml-core~=1.36.0->azureml-opendatasets) (0.5.1)\nRequirement already satisfied: azure-common<2.0.0,>=1.1.12 in /anaconda/envs/azureml_py36/lib/python3.6/site-packages (from azureml-core~=1.36.0->azureml-opendatasets) (1.1.27)\nRequirement already satisfied: pyopenssl<21.0.0 in /anaconda/envs/azureml_py36/lib/python3.6/site-packages (from azureml-core~=1.36.0->azureml-opendatasets) (20.0.1)\nRequirement already satisfied: contextlib2<22.0.0 in /anaconda/envs/azureml_py36/lib/python3.6/site-packages (from azureml-core~=1.36.0->azureml-opendatasets) (21.6.0)\nRequirement already satisfied: urllib3<=1.26.7,>=1.23 in /anaconda/envs/azureml_py36/lib/python3.6/site-packages (from azureml-core~=1.36.0->azureml-opendatasets) (1.25.11)\nRequirement already satisfied: cryptography!=1.9,!=2.0.*,!=2.1.*,!=2.2.*,<4.0.0 in /anaconda/envs/azureml_py36/lib/python3.6/site-packages (from azureml-core~=1.36.0->azureml-opendatasets) (3.4.8)\nRequirement already satisfied: azure-mgmt-storage<16.0.0,>=1.5.0 in /anaconda/envs/azureml_py36/lib/python3.6/site-packages (from azureml-core~=1.36.0->azureml-opendatasets) (11.2.0)\nRequirement already satisfied: py4j==0.10.9.2 in /anaconda/envs/azureml_py36/lib/python3.6/site-packages (from pyspark->azureml-opendatasets) (0.10.9.2)\nRequirement already satisfied: azureml-dataprep<2.25.0a,>=2.24.0a in /anaconda/envs/azureml_py36/lib/python3.6/site-packages (from azureml-dataset-runtime[fuse,pandas]~=1.36.0->azureml-opendatasets) (2.24.4)\nRequirement already satisfied: fusepy<4.0.0,>=3.0.1; extra == \"fuse\" in /anaconda/envs/azureml_py36/lib/python3.6/site-packages (from azureml-dataset-runtime[fuse,pandas]~=1.36.0->azureml-opendatasets) (3.0.1)\nRequirement already satisfied: azure-core<2.0.0,>=1.10.0 in /anaconda/envs/azureml_py36/lib/python3.6/site-packages (from azure-storage-blob>=12.6.0->azureml-widgets) (1.19.1)\nRequirement already satisfied: ipython>=4.0.0; python_version >= \"3.3\" in /anaconda/envs/azureml_py36/lib/python3.6/site-packages (from ipywidgets>=7.0.0->azureml-widgets) (7.16.1)\nRequirement already satisfied: nbformat>=4.2.0 in /anaconda/envs/azureml_py36/lib/python3.6/site-packages (from ipywidgets>=7.0.0->azureml-widgets) (5.1.3)\nRequirement already satisfied: jupyterlab-widgets>=1.0.0; python_version >= \"3.6\" in /anaconda/envs/azureml_py36/lib/python3.6/site-packages (from ipywidgets>=7.0.0->azureml-widgets) (1.0.2)\nRequirement already satisfied: ipython-genutils~=0.2.0 in /anaconda/envs/azureml_py36/lib/python3.6/site-packages (from ipywidgets>=7.0.0->azureml-widgets) (0.2.0)\nRequirement already satisfied: ipykernel>=4.5.1 in /anaconda/envs/azureml_py36/lib/python3.6/site-packages (from ipywidgets>=7.0.0->azureml-widgets) (5.5.6)\nRequirement already satisfied: traitlets>=4.3.1 in /anaconda/envs/azureml_py36/lib/python3.6/site-packages (from ipywidgets>=7.0.0->azureml-widgets) (4.3.3)\nRequirement already satisfied: widgetsnbextension~=3.5.0 in /anaconda/envs/azureml_py36/lib/python3.6/site-packages (from ipywidgets>=7.0.0->azureml-widgets) (3.5.2)\nRequirement already satisfied: six in /anaconda/envs/azureml_py36/lib/python3.6/site-packages (from msrestazure<=0.6.4,>=0.4.33->azureml-core~=1.36.0->azureml-opendatasets) (1.16.0)\nRequirement already satisfied: isodate>=0.6.0 in /anaconda/envs/azureml_py36/lib/python3.6/site-packages (from msrest<1.0.0,>=0.5.1->azureml-core~=1.36.0->azureml-opendatasets) (0.6.0)\nRequirement already satisfied: requests-oauthlib>=0.5.0 in /anaconda/envs/azureml_py36/lib/python3.6/site-packages (from msrest<1.0.0,>=0.5.1->azureml-core~=1.36.0->azureml-opendatasets) (1.3.0)\nRequirement already satisfied: certifi>=2017.4.17 in /anaconda/envs/azureml_py36/lib/python3.6/site-packages (from msrest<1.0.0,>=0.5.1->azureml-core~=1.36.0->azureml-opendatasets) (2021.10.8)\nRequirement already satisfied: backports.weakref in /anaconda/envs/azureml_py36/lib/python3.6/site-packages (from backports.tempfile->azureml-core~=1.36.0->azureml-opendatasets) (1.0.post1)\nRequirement already satisfied: importlib-metadata; python_version < \"3.8\" in /anaconda/envs/azureml_py36/lib/python3.6/site-packages (from jsonpickle<3.0.0->azureml-core~=1.36.0->azureml-opendatasets) (4.8.1)\nRequirement already satisfied: charset-normalizer~=2.0.0; python_version >= \"3\" in /anaconda/envs/azureml_py36/lib/python3.6/site-packages (from requests<3.0.0,>=2.19.1->azureml-core~=1.36.0->azureml-opendatasets) (2.0.7)\nRequirement already satisfied: idna<4,>=2.5; python_version >= \"3\" in /anaconda/envs/azureml_py36/lib/python3.6/site-packages (from requests<3.0.0,>=2.19.1->azureml-core~=1.36.0->azureml-opendatasets) (3.3)\nRequirement already satisfied: azure-mgmt-core<2.0.0,>=1.2.0 in /anaconda/envs/azureml_py36/lib/python3.6/site-packages (from azure-mgmt-containerregistry>=2.0.0->azureml-core~=1.36.0->azureml-opendatasets) (1.3.0)\nRequirement already satisfied: jeepney>=0.6 in /anaconda/envs/azureml_py36/lib/python3.6/site-packages (from SecretStorage<4.0.0->azureml-core~=1.36.0->azureml-opendatasets) (0.7.1)\nRequirement already satisfied: websocket-client>=0.32.0 in /anaconda/envs/azureml_py36/lib/python3.6/site-packages (from docker<6.0.0->azureml-core~=1.36.0->azureml-opendatasets) (1.2.1)\nRequirement already satisfied: pyasn1>=0.1.1 in /anaconda/envs/azureml_py36/lib/python3.6/site-packages (from ndg-httpsclient<=0.5.1->azureml-core~=1.36.0->azureml-opendatasets) (0.4.8)\nRequirement already satisfied: cffi>=1.12 in /anaconda/envs/azureml_py36/lib/python3.6/site-packages (from cryptography!=1.9,!=2.0.*,!=2.1.*,!=2.2.*,<4.0.0->azureml-core~=1.36.0->azureml-opendatasets) (1.15.0)\nRequirement already satisfied: cloudpickle<2.0.0,>=1.1.0 in /anaconda/envs/azureml_py36/lib/python3.6/site-packages (from azureml-dataprep<2.25.0a,>=2.24.0a->azureml-dataset-runtime[fuse,pandas]~=1.36.0->azureml-opendatasets) (1.6.0)\nRequirement already satisfied: azureml-dataprep-native<39.0.0,>=38.0.0 in /anaconda/envs/azureml_py36/lib/python3.6/site-packages (from azureml-dataprep<2.25.0a,>=2.24.0a->azureml-dataset-runtime[fuse,pandas]~=1.36.0->azureml-opendatasets) (38.0.0)\nRequirement already satisfied: azure-identity==1.7.0 in /anaconda/envs/azureml_py36/lib/python3.6/site-packages (from azureml-dataprep<2.25.0a,>=2.24.0a->azureml-dataset-runtime[fuse,pandas]~=1.36.0->azureml-opendatasets) (1.7.0)\nRequirement already satisfied: dotnetcore2<3.0.0,>=2.1.14 in /anaconda/envs/azureml_py36/lib/python3.6/site-packages (from azureml-dataprep<2.25.0a,>=2.24.0a->azureml-dataset-runtime[fuse,pandas]~=1.36.0->azureml-opendatasets) (2.1.21)\nRequirement already satisfied: azureml-dataprep-rslex~=2.0.0dev0 in /anaconda/envs/azureml_py36/lib/python3.6/site-packages (from azureml-dataprep<2.25.0a,>=2.24.0a->azureml-dataset-runtime[fuse,pandas]~=1.36.0->azureml-opendatasets) (2.0.3)\nRequirement already satisfied: jedi>=0.10 in /anaconda/envs/azureml_py36/lib/python3.6/site-packages (from ipython>=4.0.0; python_version >= \"3.3\"->ipywidgets>=7.0.0->azureml-widgets) (0.17.2)\nRequirement already satisfied: pygments in /anaconda/envs/azureml_py36/lib/python3.6/site-packages (from ipython>=4.0.0; python_version >= \"3.3\"->ipywidgets>=7.0.0->azureml-widgets) (2.10.0)\nRequirement already satisfied: backcall in /anaconda/envs/azureml_py36/lib/python3.6/site-packages (from ipython>=4.0.0; python_version >= \"3.3\"->ipywidgets>=7.0.0->azureml-widgets) (0.2.0)\nRequirement already satisfied: prompt-toolkit!=3.0.0,!=3.0.1,<3.1.0,>=2.0.0 in /anaconda/envs/azureml_py36/lib/python3.6/site-packages (from ipython>=4.0.0; python_version >= \"3.3\"->ipywidgets>=7.0.0->azureml-widgets) (3.0.22)\nRequirement already satisfied: pickleshare in /anaconda/envs/azureml_py36/lib/python3.6/site-packages (from ipython>=4.0.0; python_version >= \"3.3\"->ipywidgets>=7.0.0->azureml-widgets) (0.7.5)\nRequirement already satisfied: pexpect; sys_platform != \"win32\" in /anaconda/envs/azureml_py36/lib/python3.6/site-packages (from ipython>=4.0.0; python_version >= \"3.3\"->ipywidgets>=7.0.0->azureml-widgets) (4.8.0)\nRequirement already satisfied: decorator in /anaconda/envs/azureml_py36/lib/python3.6/site-packages (from ipython>=4.0.0; python_version >= \"3.3\"->ipywidgets>=7.0.0->azureml-widgets) (5.1.0)\nRequirement already satisfied: setuptools>=18.5 in /anaconda/envs/azureml_py36/lib/python3.6/site-packages (from ipython>=4.0.0; python_version >= \"3.3\"->ipywidgets>=7.0.0->azureml-widgets) (50.3.0)\nRequirement already satisfied: jupyter-core in /anaconda/envs/azureml_py36/lib/python3.6/site-packages (from nbformat>=4.2.0->ipywidgets>=7.0.0->azureml-widgets) (4.9.1)\nRequirement already satisfied: jsonschema!=2.5.0,>=2.4 in /anaconda/envs/azureml_py36/lib/python3.6/site-packages (from nbformat>=4.2.0->ipywidgets>=7.0.0->azureml-widgets) (3.2.0)\nRequirement already satisfied: tornado>=4.2 in /anaconda/envs/azureml_py36/lib/python3.6/site-packages (from ipykernel>=4.5.1->ipywidgets>=7.0.0->azureml-widgets) (6.1)\nRequirement already satisfied: jupyter-client in /anaconda/envs/azureml_py36/lib/python3.6/site-packages (from ipykernel>=4.5.1->ipywidgets>=7.0.0->azureml-widgets) (6.1.12)\nRequirement already satisfied: notebook>=4.4.1 in /anaconda/envs/azureml_py36/lib/python3.6/site-packages (from widgetsnbextension~=3.5.0->ipywidgets>=7.0.0->azureml-widgets) (6.4.5)\nRequirement already satisfied: oauthlib>=3.0.0 in /anaconda/envs/azureml_py36/lib/python3.6/site-packages (from requests-oauthlib>=0.5.0->msrest<1.0.0,>=0.5.1->azureml-core~=1.36.0->azureml-opendatasets) (3.1.1)\nRequirement already satisfied: typing-extensions>=3.6.4; python_version < \"3.8\" in /anaconda/envs/azureml_py36/lib/python3.6/site-packages (from importlib-metadata; python_version < \"3.8\"->jsonpickle<3.0.0->azureml-core~=1.36.0->azureml-opendatasets) (3.10.0.2)\nRequirement already satisfied: zipp>=0.5 in /anaconda/envs/azureml_py36/lib/python3.6/site-packages (from importlib-metadata; python_version < \"3.8\"->jsonpickle<3.0.0->azureml-core~=1.36.0->azureml-opendatasets) (3.6.0)\nRequirement already satisfied: pycparser in /anaconda/envs/azureml_py36/lib/python3.6/site-packages (from cffi>=1.12->cryptography!=1.9,!=2.0.*,!=2.1.*,!=2.2.*,<4.0.0->azureml-core~=1.36.0->azureml-opendatasets) (2.20)\nRequirement already satisfied: msal-extensions~=0.3.0 in /anaconda/envs/azureml_py36/lib/python3.6/site-packages (from azure-identity==1.7.0->azureml-dataprep<2.25.0a,>=2.24.0a->azureml-dataset-runtime[fuse,pandas]~=1.36.0->azureml-opendatasets) (0.3.0)\nRequirement already satisfied: msal<2.0.0,>=1.12.0 in /anaconda/envs/azureml_py36/lib/python3.6/site-packages (from azure-identity==1.7.0->azureml-dataprep<2.25.0a,>=2.24.0a->azureml-dataset-runtime[fuse,pandas]~=1.36.0->azureml-opendatasets) (1.16.0)\nRequirement already satisfied: distro>=1.2.0 in /anaconda/envs/azureml_py36/lib/python3.6/site-packages (from dotnetcore2<3.0.0,>=2.1.14->azureml-dataprep<2.25.0a,>=2.24.0a->azureml-dataset-runtime[fuse,pandas]~=1.36.0->azureml-opendatasets) (1.6.0)\nRequirement already satisfied: parso<0.8.0,>=0.7.0 in /anaconda/envs/azureml_py36/lib/python3.6/site-packages (from jedi>=0.10->ipython>=4.0.0; python_version >= \"3.3\"->ipywidgets>=7.0.0->azureml-widgets) (0.7.1)\nRequirement already satisfied: wcwidth in /anaconda/envs/azureml_py36/lib/python3.6/site-packages (from prompt-toolkit!=3.0.0,!=3.0.1,<3.1.0,>=2.0.0->ipython>=4.0.0; python_version >= \"3.3\"->ipywidgets>=7.0.0->azureml-widgets) (0.2.5)\nRequirement already satisfied: ptyprocess>=0.5 in /anaconda/envs/azureml_py36/lib/python3.6/site-packages (from pexpect; sys_platform != \"win32\"->ipython>=4.0.0; python_version >= \"3.3\"->ipywidgets>=7.0.0->azureml-widgets) (0.7.0)\nRequirement already satisfied: pyrsistent>=0.14.0 in /anaconda/envs/azureml_py36/lib/python3.6/site-packages (from jsonschema!=2.5.0,>=2.4->nbformat>=4.2.0->ipywidgets>=7.0.0->azureml-widgets) (0.18.0)\nRequirement already satisfied: attrs>=17.4.0 in /anaconda/envs/azureml_py36/lib/python3.6/site-packages (from jsonschema!=2.5.0,>=2.4->nbformat>=4.2.0->ipywidgets>=7.0.0->azureml-widgets) (21.2.0)\nRequirement already satisfied: pyzmq>=13 in /anaconda/envs/azureml_py36/lib/python3.6/site-packages (from jupyter-client->ipykernel>=4.5.1->ipywidgets>=7.0.0->azureml-widgets) (22.3.0)\nRequirement already satisfied: terminado>=0.8.3 in /anaconda/envs/azureml_py36/lib/python3.6/site-packages (from notebook>=4.4.1->widgetsnbextension~=3.5.0->ipywidgets>=7.0.0->azureml-widgets) (0.12.1)\nRequirement already satisfied: Send2Trash>=1.5.0 in /anaconda/envs/azureml_py36/lib/python3.6/site-packages (from notebook>=4.4.1->widgetsnbextension~=3.5.0->ipywidgets>=7.0.0->azureml-widgets) (1.8.0)\nRequirement already satisfied: jinja2 in /anaconda/envs/azureml_py36/lib/python3.6/site-packages (from notebook>=4.4.1->widgetsnbextension~=3.5.0->ipywidgets>=7.0.0->azureml-widgets) (2.11.2)\nRequirement already satisfied: prometheus-client in /anaconda/envs/azureml_py36/lib/python3.6/site-packages (from notebook>=4.4.1->widgetsnbextension~=3.5.0->ipywidgets>=7.0.0->azureml-widgets) (0.12.0)\nRequirement already satisfied: nbconvert in /anaconda/envs/azureml_py36/lib/python3.6/site-packages (from notebook>=4.4.1->widgetsnbextension~=3.5.0->ipywidgets>=7.0.0->azureml-widgets) (5.6.1)\nRequirement already satisfied: argon2-cffi in /anaconda/envs/azureml_py36/lib/python3.6/site-packages (from notebook>=4.4.1->widgetsnbextension~=3.5.0->ipywidgets>=7.0.0->azureml-widgets) (21.1.0)\nRequirement already satisfied: portalocker~=1.0; platform_system != \"Windows\" in /anaconda/envs/azureml_py36/lib/python3.6/site-packages (from msal-extensions~=0.3.0->azure-identity==1.7.0->azureml-dataprep<2.25.0a,>=2.24.0a->azureml-dataset-runtime[fuse,pandas]~=1.36.0->azureml-opendatasets) (1.7.1)\nRequirement already satisfied: MarkupSafe>=0.23 in /anaconda/envs/azureml_py36/lib/python3.6/site-packages (from jinja2->notebook>=4.4.1->widgetsnbextension~=3.5.0->ipywidgets>=7.0.0->azureml-widgets) (2.0.1)\nRequirement already satisfied: mistune<2,>=0.8.1 in /anaconda/envs/azureml_py36/lib/python3.6/site-packages (from nbconvert->notebook>=4.4.1->widgetsnbextension~=3.5.0->ipywidgets>=7.0.0->azureml-widgets) (0.8.4)\nRequirement already satisfied: entrypoints>=0.2.2 in /anaconda/envs/azureml_py36/lib/python3.6/site-packages (from nbconvert->notebook>=4.4.1->widgetsnbextension~=3.5.0->ipywidgets>=7.0.0->azureml-widgets) (0.3)\nRequirement already satisfied: pandocfilters>=1.4.1 in /anaconda/envs/azureml_py36/lib/python3.6/site-packages (from nbconvert->notebook>=4.4.1->widgetsnbextension~=3.5.0->ipywidgets>=7.0.0->azureml-widgets) (1.5.0)\nRequirement already satisfied: bleach in /anaconda/envs/azureml_py36/lib/python3.6/site-packages (from nbconvert->notebook>=4.4.1->widgetsnbextension~=3.5.0->ipywidgets>=7.0.0->azureml-widgets) (4.1.0)\nRequirement already satisfied: testpath in /anaconda/envs/azureml_py36/lib/python3.6/site-packages (from nbconvert->notebook>=4.4.1->widgetsnbextension~=3.5.0->ipywidgets>=7.0.0->azureml-widgets) (0.5.0)\nRequirement already satisfied: defusedxml in /anaconda/envs/azureml_py36/lib/python3.6/site-packages (from nbconvert->notebook>=4.4.1->widgetsnbextension~=3.5.0->ipywidgets>=7.0.0->azureml-widgets) (0.7.1)\nRequirement already satisfied: webencodings in /anaconda/envs/azureml_py36/lib/python3.6/site-packages (from bleach->nbconvert->notebook>=4.4.1->widgetsnbextension~=3.5.0->ipywidgets>=7.0.0->azureml-widgets) (0.5.1)\nRequirement already satisfied: packaging in /anaconda/envs/azureml_py36/lib/python3.6/site-packages (from bleach->nbconvert->notebook>=4.4.1->widgetsnbextension~=3.5.0->ipywidgets>=7.0.0->azureml-widgets) (21.2)\nRequirement already satisfied: pyparsing<3,>=2.0.2 in /anaconda/envs/azureml_py36/lib/python3.6/site-packages (from packaging->bleach->nbconvert->notebook>=4.4.1->widgetsnbextension~=3.5.0->ipywidgets>=7.0.0->azureml-widgets) (2.4.7)\nNote: you may need to restart the kernel to use updated packages.\n"
        }
      ],
      "execution_count": 1,
      "metadata": {
        "jupyter": {
          "source_hidden": false,
          "outputs_hidden": false
        },
        "nteract": {
          "transient": {
            "deleting": false
          }
        },
        "gather": {
          "logged": 1641713973531
        }
      }
    },
    {
      "cell_type": "code",
      "source": [
        "from azureml.opendatasets import NycTlcGreen\r\n",
        "import pandas as pd\r\n",
        "from datetime import datetime\r\n",
        "from dateutil.relativedelta import relativedelta"
      ],
      "outputs": [],
      "execution_count": 2,
      "metadata": {
        "jupyter": {
          "source_hidden": false,
          "outputs_hidden": false
        },
        "nteract": {
          "transient": {
            "deleting": false
          }
        },
        "gather": {
          "logged": 1641713977317
        }
      }
    },
    {
      "cell_type": "code",
      "source": [
        "green_taxi_df = pd.DataFrame([])\r\n",
        "start = datetime.strptime(\"1/1/2015\",\"%m/%d/%Y\")\r\n",
        "end = datetime.strptime(\"1/31/2015\",\"%m/%d/%Y\")\r\n",
        "\r\n",
        "for sample_month in range(12):\r\n",
        "    temp_df_green = NycTlcGreen(start + relativedelta(months=sample_month), end + relativedelta(months=sample_month)) \\\r\n",
        "        .to_pandas_dataframe()\r\n",
        "    green_taxi_df = green_taxi_df.append(temp_df_green.sample(2000))\r\n",
        "\r\n",
        "green_taxi_df.head(10)"
      ],
      "outputs": [
        {
          "output_type": "stream",
          "name": "stdout",
          "text": "[Info] read from /tmp/tmpbgzy24pu/https%3A/%2Fazureopendatastorage.azurefd.net/nyctlc/green/puYear=2015/puMonth=1/part-00175-tid-4753095944193949832-fee7e113-666d-4114-9fcb-bcd3046479f3-2745-1.c000.snappy.parquet\n[Info] read from /tmp/tmpjo1pke_r/https%3A/%2Fazureopendatastorage.azurefd.net/nyctlc/green/puYear=2015/puMonth=2/part-00007-tid-4753095944193949832-fee7e113-666d-4114-9fcb-bcd3046479f3-2577-1.c000.snappy.parquet\n[Info] read from /tmp/tmp9fw_meie/https%3A/%2Fazureopendatastorage.azurefd.net/nyctlc/green/puYear=2015/puMonth=3/part-00133-tid-4753095944193949832-fee7e113-666d-4114-9fcb-bcd3046479f3-2703-1.c000.snappy.parquet\n[Info] read from /tmp/tmpderlrfdp/https%3A/%2Fazureopendatastorage.azurefd.net/nyctlc/green/puYear=2015/puMonth=4/part-00073-tid-4753095944193949832-fee7e113-666d-4114-9fcb-bcd3046479f3-2643-1.c000.snappy.parquet\n[Info] read from /tmp/tmp3kmmzduu/https%3A/%2Fazureopendatastorage.azurefd.net/nyctlc/green/puYear=2015/puMonth=5/part-00177-tid-4753095944193949832-fee7e113-666d-4114-9fcb-bcd3046479f3-2747-1.c000.snappy.parquet\n[Info] read from /tmp/tmp6mg2_xdx/https%3A/%2Fazureopendatastorage.azurefd.net/nyctlc/green/puYear=2015/puMonth=6/part-00156-tid-4753095944193949832-fee7e113-666d-4114-9fcb-bcd3046479f3-2726-2.c000.snappy.parquet\n[Info] read from /tmp/tmpkr3bknbd/https%3A/%2Fazureopendatastorage.azurefd.net/nyctlc/green/puYear=2015/puMonth=7/part-00147-tid-4753095944193949832-fee7e113-666d-4114-9fcb-bcd3046479f3-2717-1.c000.snappy.parquet\n[Info] read from /tmp/tmp57bpdv_2/https%3A/%2Fazureopendatastorage.azurefd.net/nyctlc/green/puYear=2015/puMonth=8/part-00074-tid-4753095944193949832-fee7e113-666d-4114-9fcb-bcd3046479f3-2644-1.c000.snappy.parquet\n[Info] read from /tmp/tmp4ss81a6d/https%3A/%2Fazureopendatastorage.azurefd.net/nyctlc/green/puYear=2015/puMonth=9/part-00092-tid-4753095944193949832-fee7e113-666d-4114-9fcb-bcd3046479f3-2662-1.c000.snappy.parquet\n[Info] read from /tmp/tmp595igjlc/https%3A/%2Fazureopendatastorage.azurefd.net/nyctlc/green/puYear=2015/puMonth=10/part-00105-tid-4753095944193949832-fee7e113-666d-4114-9fcb-bcd3046479f3-2675-1.c000.snappy.parquet\n[Info] read from /tmp/tmpg64o1jf8/https%3A/%2Fazureopendatastorage.azurefd.net/nyctlc/green/puYear=2015/puMonth=11/part-00089-tid-4753095944193949832-fee7e113-666d-4114-9fcb-bcd3046479f3-2659-1.c000.snappy.parquet\n[Info] read from /tmp/tmpji3la5z8/https%3A/%2Fazureopendatastorage.azurefd.net/nyctlc/green/puYear=2015/puMonth=12/part-00020-tid-4753095944193949832-fee7e113-666d-4114-9fcb-bcd3046479f3-2590-1.c000.snappy.parquet\n"
        },
        {
          "output_type": "execute_result",
          "execution_count": 3,
          "data": {
            "text/plain": "         vendorID  lpepPickupDatetime lpepDropoffDatetime  passengerCount  \\\n1284614         2 2015-01-14 17:34:34 2015-01-14 17:42:33               1   \n964688          2 2015-01-23 22:46:37 2015-01-23 22:51:55               1   \n150724          2 2015-01-13 18:05:06 2015-01-13 18:27:38               1   \n98174           1 2015-01-10 21:13:26 2015-01-10 21:25:08               1   \n1373123         1 2015-01-07 15:30:58 2015-01-07 15:31:23               1   \n91546           2 2015-01-10 20:36:17 2015-01-10 20:44:17               1   \n969037          2 2015-01-23 23:26:43 2015-01-23 23:29:07               2   \n1056662         2 2015-01-30 20:04:28 2015-01-30 20:19:58               1   \n630226          2 2015-01-04 00:31:51 2015-01-04 00:37:25               1   \n274479          1 2015-01-02 18:18:56 2015-01-02 18:23:48               1   \n\n         tripDistance puLocationId doLocationId  pickupLongitude  \\\n1284614          1.19         None         None       -73.922218   \n964688           1.14         None         None       -73.938675   \n150724           2.69         None         None       -73.953712   \n98174            1.90         None         None       -73.884331   \n1373123          0.10         None         None       -73.916222   \n91546            2.31         None         None       -73.959404   \n969037           0.53         None         None       -73.969093   \n1056662          2.33         None         None       -73.941315   \n630226           1.37         None         None       -73.937492   \n274479           1.50         None         None       -73.939095   \n\n         pickupLatitude  dropoffLongitude  ...  paymentType  fareAmount extra  \\\n1284614       40.760525        -73.923973  ...            2         7.0   1.0   \n964688        40.817287        -73.928116  ...            2         6.0   0.5   \n150724        40.743832        -73.945107  ...            2        16.5   1.0   \n98174         40.749508        -73.855515  ...            1         9.5   0.5   \n1373123       40.872177        -73.917351  ...            2        20.0   0.0   \n91546         40.809402        -73.976746  ...            1         9.0   0.5   \n969037        40.689613        -73.965034  ...            2         4.0   0.5   \n1056662       40.713245        -73.935471  ...            1        11.5   0.5   \n630226        40.801548        -73.940117  ...            2         6.5   0.5   \n274479        40.757286        -73.930923  ...            1         6.5   1.0   \n\n         mtaTax  improvementSurcharge  tipAmount  tollsAmount ehailFee  \\\n1284614     0.5                   0.3       0.00          0.0      NaN   \n964688      0.5                   0.3       0.00          0.0      NaN   \n150724      0.5                   0.3       0.00          0.0      NaN   \n98174       0.5                   0.3       1.00          0.0      NaN   \n1373123     0.0                     0       0.00          0.0      NaN   \n91546       0.5                   0.3       1.50          0.0      NaN   \n969037      0.5                   0.3       0.00          0.0      NaN   \n1056662     0.5                   0.3       2.56          0.0      NaN   \n630226      0.5                   0.3       0.00          0.0      NaN   \n274479      0.5                   0.3       0.00          0.0      NaN   \n\n         totalAmount  tripType  \n1284614         8.80       1.0  \n964688          7.30       1.0  \n150724         18.30       1.0  \n98174          11.80       1.0  \n1373123        20.00       2.0  \n91546          11.80       1.0  \n969037          5.30       1.0  \n1056662        15.36       1.0  \n630226          7.80       1.0  \n274479          8.30       1.0  \n\n[10 rows x 23 columns]",
            "text/html": "<div>\n<style scoped>\n    .dataframe tbody tr th:only-of-type {\n        vertical-align: middle;\n    }\n\n    .dataframe tbody tr th {\n        vertical-align: top;\n    }\n\n    .dataframe thead th {\n        text-align: right;\n    }\n</style>\n<table border=\"1\" class=\"dataframe\">\n  <thead>\n    <tr style=\"text-align: right;\">\n      <th></th>\n      <th>vendorID</th>\n      <th>lpepPickupDatetime</th>\n      <th>lpepDropoffDatetime</th>\n      <th>passengerCount</th>\n      <th>tripDistance</th>\n      <th>puLocationId</th>\n      <th>doLocationId</th>\n      <th>pickupLongitude</th>\n      <th>pickupLatitude</th>\n      <th>dropoffLongitude</th>\n      <th>...</th>\n      <th>paymentType</th>\n      <th>fareAmount</th>\n      <th>extra</th>\n      <th>mtaTax</th>\n      <th>improvementSurcharge</th>\n      <th>tipAmount</th>\n      <th>tollsAmount</th>\n      <th>ehailFee</th>\n      <th>totalAmount</th>\n      <th>tripType</th>\n    </tr>\n  </thead>\n  <tbody>\n    <tr>\n      <th>1284614</th>\n      <td>2</td>\n      <td>2015-01-14 17:34:34</td>\n      <td>2015-01-14 17:42:33</td>\n      <td>1</td>\n      <td>1.19</td>\n      <td>None</td>\n      <td>None</td>\n      <td>-73.922218</td>\n      <td>40.760525</td>\n      <td>-73.923973</td>\n      <td>...</td>\n      <td>2</td>\n      <td>7.0</td>\n      <td>1.0</td>\n      <td>0.5</td>\n      <td>0.3</td>\n      <td>0.00</td>\n      <td>0.0</td>\n      <td>NaN</td>\n      <td>8.80</td>\n      <td>1.0</td>\n    </tr>\n    <tr>\n      <th>964688</th>\n      <td>2</td>\n      <td>2015-01-23 22:46:37</td>\n      <td>2015-01-23 22:51:55</td>\n      <td>1</td>\n      <td>1.14</td>\n      <td>None</td>\n      <td>None</td>\n      <td>-73.938675</td>\n      <td>40.817287</td>\n      <td>-73.928116</td>\n      <td>...</td>\n      <td>2</td>\n      <td>6.0</td>\n      <td>0.5</td>\n      <td>0.5</td>\n      <td>0.3</td>\n      <td>0.00</td>\n      <td>0.0</td>\n      <td>NaN</td>\n      <td>7.30</td>\n      <td>1.0</td>\n    </tr>\n    <tr>\n      <th>150724</th>\n      <td>2</td>\n      <td>2015-01-13 18:05:06</td>\n      <td>2015-01-13 18:27:38</td>\n      <td>1</td>\n      <td>2.69</td>\n      <td>None</td>\n      <td>None</td>\n      <td>-73.953712</td>\n      <td>40.743832</td>\n      <td>-73.945107</td>\n      <td>...</td>\n      <td>2</td>\n      <td>16.5</td>\n      <td>1.0</td>\n      <td>0.5</td>\n      <td>0.3</td>\n      <td>0.00</td>\n      <td>0.0</td>\n      <td>NaN</td>\n      <td>18.30</td>\n      <td>1.0</td>\n    </tr>\n    <tr>\n      <th>98174</th>\n      <td>1</td>\n      <td>2015-01-10 21:13:26</td>\n      <td>2015-01-10 21:25:08</td>\n      <td>1</td>\n      <td>1.90</td>\n      <td>None</td>\n      <td>None</td>\n      <td>-73.884331</td>\n      <td>40.749508</td>\n      <td>-73.855515</td>\n      <td>...</td>\n      <td>1</td>\n      <td>9.5</td>\n      <td>0.5</td>\n      <td>0.5</td>\n      <td>0.3</td>\n      <td>1.00</td>\n      <td>0.0</td>\n      <td>NaN</td>\n      <td>11.80</td>\n      <td>1.0</td>\n    </tr>\n    <tr>\n      <th>1373123</th>\n      <td>1</td>\n      <td>2015-01-07 15:30:58</td>\n      <td>2015-01-07 15:31:23</td>\n      <td>1</td>\n      <td>0.10</td>\n      <td>None</td>\n      <td>None</td>\n      <td>-73.916222</td>\n      <td>40.872177</td>\n      <td>-73.917351</td>\n      <td>...</td>\n      <td>2</td>\n      <td>20.0</td>\n      <td>0.0</td>\n      <td>0.0</td>\n      <td>0</td>\n      <td>0.00</td>\n      <td>0.0</td>\n      <td>NaN</td>\n      <td>20.00</td>\n      <td>2.0</td>\n    </tr>\n    <tr>\n      <th>91546</th>\n      <td>2</td>\n      <td>2015-01-10 20:36:17</td>\n      <td>2015-01-10 20:44:17</td>\n      <td>1</td>\n      <td>2.31</td>\n      <td>None</td>\n      <td>None</td>\n      <td>-73.959404</td>\n      <td>40.809402</td>\n      <td>-73.976746</td>\n      <td>...</td>\n      <td>1</td>\n      <td>9.0</td>\n      <td>0.5</td>\n      <td>0.5</td>\n      <td>0.3</td>\n      <td>1.50</td>\n      <td>0.0</td>\n      <td>NaN</td>\n      <td>11.80</td>\n      <td>1.0</td>\n    </tr>\n    <tr>\n      <th>969037</th>\n      <td>2</td>\n      <td>2015-01-23 23:26:43</td>\n      <td>2015-01-23 23:29:07</td>\n      <td>2</td>\n      <td>0.53</td>\n      <td>None</td>\n      <td>None</td>\n      <td>-73.969093</td>\n      <td>40.689613</td>\n      <td>-73.965034</td>\n      <td>...</td>\n      <td>2</td>\n      <td>4.0</td>\n      <td>0.5</td>\n      <td>0.5</td>\n      <td>0.3</td>\n      <td>0.00</td>\n      <td>0.0</td>\n      <td>NaN</td>\n      <td>5.30</td>\n      <td>1.0</td>\n    </tr>\n    <tr>\n      <th>1056662</th>\n      <td>2</td>\n      <td>2015-01-30 20:04:28</td>\n      <td>2015-01-30 20:19:58</td>\n      <td>1</td>\n      <td>2.33</td>\n      <td>None</td>\n      <td>None</td>\n      <td>-73.941315</td>\n      <td>40.713245</td>\n      <td>-73.935471</td>\n      <td>...</td>\n      <td>1</td>\n      <td>11.5</td>\n      <td>0.5</td>\n      <td>0.5</td>\n      <td>0.3</td>\n      <td>2.56</td>\n      <td>0.0</td>\n      <td>NaN</td>\n      <td>15.36</td>\n      <td>1.0</td>\n    </tr>\n    <tr>\n      <th>630226</th>\n      <td>2</td>\n      <td>2015-01-04 00:31:51</td>\n      <td>2015-01-04 00:37:25</td>\n      <td>1</td>\n      <td>1.37</td>\n      <td>None</td>\n      <td>None</td>\n      <td>-73.937492</td>\n      <td>40.801548</td>\n      <td>-73.940117</td>\n      <td>...</td>\n      <td>2</td>\n      <td>6.5</td>\n      <td>0.5</td>\n      <td>0.5</td>\n      <td>0.3</td>\n      <td>0.00</td>\n      <td>0.0</td>\n      <td>NaN</td>\n      <td>7.80</td>\n      <td>1.0</td>\n    </tr>\n    <tr>\n      <th>274479</th>\n      <td>1</td>\n      <td>2015-01-02 18:18:56</td>\n      <td>2015-01-02 18:23:48</td>\n      <td>1</td>\n      <td>1.50</td>\n      <td>None</td>\n      <td>None</td>\n      <td>-73.939095</td>\n      <td>40.757286</td>\n      <td>-73.930923</td>\n      <td>...</td>\n      <td>1</td>\n      <td>6.5</td>\n      <td>1.0</td>\n      <td>0.5</td>\n      <td>0.3</td>\n      <td>0.00</td>\n      <td>0.0</td>\n      <td>NaN</td>\n      <td>8.30</td>\n      <td>1.0</td>\n    </tr>\n  </tbody>\n</table>\n<p>10 rows × 23 columns</p>\n</div>"
          },
          "metadata": {}
        }
      ],
      "execution_count": 3,
      "metadata": {
        "jupyter": {
          "source_hidden": false,
          "outputs_hidden": false
        },
        "nteract": {
          "transient": {
            "deleting": false
          }
        },
        "gather": {
          "logged": 1641714031713
        }
      }
    },
    {
      "cell_type": "code",
      "source": [
        "columns_to_remove = [\"lpepDropoffDatetime\", \"puLocationId\", \"doLocationId\", \"extra\", \"mtaTax\",\r\n",
        "                     \"improvementSurcharge\", \"tollsAmount\", \"ehailFee\", \"tripType\", \"rateCodeID\",\r\n",
        "                     \"storeAndFwdFlag\", \"paymentType\", \"fareAmount\", \"tipAmount\"\r\n",
        "                    ]\r\n",
        "for col in columns_to_remove:\r\n",
        "    green_taxi_df.pop(col)\r\n",
        "\r\n",
        "green_taxi_df.head(5)"
      ],
      "outputs": [
        {
          "output_type": "execute_result",
          "execution_count": 4,
          "data": {
            "text/plain": "         vendorID  lpepPickupDatetime  passengerCount  tripDistance  \\\n1284614         2 2015-01-14 17:34:34               1          1.19   \n964688          2 2015-01-23 22:46:37               1          1.14   \n150724          2 2015-01-13 18:05:06               1          2.69   \n98174           1 2015-01-10 21:13:26               1          1.90   \n1373123         1 2015-01-07 15:30:58               1          0.10   \n\n         pickupLongitude  pickupLatitude  dropoffLongitude  dropoffLatitude  \\\n1284614       -73.922218       40.760525        -73.923973        40.774525   \n964688        -73.938675       40.817287        -73.928116        40.811798   \n150724        -73.953712       40.743832        -73.945107        40.711555   \n98174         -73.884331       40.749508        -73.855515        40.747711   \n1373123       -73.916222       40.872177        -73.917351        40.872467   \n\n         totalAmount  \n1284614          8.8  \n964688           7.3  \n150724          18.3  \n98174           11.8  \n1373123         20.0  ",
            "text/html": "<div>\n<style scoped>\n    .dataframe tbody tr th:only-of-type {\n        vertical-align: middle;\n    }\n\n    .dataframe tbody tr th {\n        vertical-align: top;\n    }\n\n    .dataframe thead th {\n        text-align: right;\n    }\n</style>\n<table border=\"1\" class=\"dataframe\">\n  <thead>\n    <tr style=\"text-align: right;\">\n      <th></th>\n      <th>vendorID</th>\n      <th>lpepPickupDatetime</th>\n      <th>passengerCount</th>\n      <th>tripDistance</th>\n      <th>pickupLongitude</th>\n      <th>pickupLatitude</th>\n      <th>dropoffLongitude</th>\n      <th>dropoffLatitude</th>\n      <th>totalAmount</th>\n    </tr>\n  </thead>\n  <tbody>\n    <tr>\n      <th>1284614</th>\n      <td>2</td>\n      <td>2015-01-14 17:34:34</td>\n      <td>1</td>\n      <td>1.19</td>\n      <td>-73.922218</td>\n      <td>40.760525</td>\n      <td>-73.923973</td>\n      <td>40.774525</td>\n      <td>8.8</td>\n    </tr>\n    <tr>\n      <th>964688</th>\n      <td>2</td>\n      <td>2015-01-23 22:46:37</td>\n      <td>1</td>\n      <td>1.14</td>\n      <td>-73.938675</td>\n      <td>40.817287</td>\n      <td>-73.928116</td>\n      <td>40.811798</td>\n      <td>7.3</td>\n    </tr>\n    <tr>\n      <th>150724</th>\n      <td>2</td>\n      <td>2015-01-13 18:05:06</td>\n      <td>1</td>\n      <td>2.69</td>\n      <td>-73.953712</td>\n      <td>40.743832</td>\n      <td>-73.945107</td>\n      <td>40.711555</td>\n      <td>18.3</td>\n    </tr>\n    <tr>\n      <th>98174</th>\n      <td>1</td>\n      <td>2015-01-10 21:13:26</td>\n      <td>1</td>\n      <td>1.90</td>\n      <td>-73.884331</td>\n      <td>40.749508</td>\n      <td>-73.855515</td>\n      <td>40.747711</td>\n      <td>11.8</td>\n    </tr>\n    <tr>\n      <th>1373123</th>\n      <td>1</td>\n      <td>2015-01-07 15:30:58</td>\n      <td>1</td>\n      <td>0.10</td>\n      <td>-73.916222</td>\n      <td>40.872177</td>\n      <td>-73.917351</td>\n      <td>40.872467</td>\n      <td>20.0</td>\n    </tr>\n  </tbody>\n</table>\n</div>"
          },
          "metadata": {}
        }
      ],
      "execution_count": 4,
      "metadata": {
        "jupyter": {
          "source_hidden": false,
          "outputs_hidden": false
        },
        "nteract": {
          "transient": {
            "deleting": false
          }
        },
        "gather": {
          "logged": 1641714032166
        }
      }
    },
    {
      "cell_type": "code",
      "source": [
        "green_taxi_df.describe()"
      ],
      "outputs": [
        {
          "output_type": "execute_result",
          "execution_count": 5,
          "data": {
            "text/plain": "           vendorID  passengerCount  tripDistance  pickupLongitude  \\\ncount  24000.000000    24000.000000  24000.000000     24000.000000   \nmean       1.783000        1.367542      2.869215       -73.815030   \nstd        0.412211        1.045706      2.921003         2.978357   \nmin        1.000000        0.000000      0.000000       -74.348526   \n25%        2.000000        1.000000      1.050000       -73.959551   \n50%        2.000000        1.000000      1.900000       -73.945068   \n75%        2.000000        1.000000      3.610000       -73.916700   \nmax        2.000000        9.000000     52.800000         0.000000   \n\n       pickupLatitude  dropoffLongitude  dropoffLatitude   totalAmount  \ncount    24000.000000      24000.000000     24000.000000  24000.000000  \nmean        40.683074        -73.847521        40.699964     14.702281  \nstd          1.642359          2.524397         1.392212     11.751186  \nmin          0.000000        -74.187279         0.000000   -499.000000  \n25%         40.698855        -73.966839        40.700205      7.800000  \n50%         40.746841        -73.944237        40.747692     11.300000  \n75%         40.803376        -73.908926        40.792242     17.800000  \nmax         40.906429          0.000000        41.062893    295.000000  ",
            "text/html": "<div>\n<style scoped>\n    .dataframe tbody tr th:only-of-type {\n        vertical-align: middle;\n    }\n\n    .dataframe tbody tr th {\n        vertical-align: top;\n    }\n\n    .dataframe thead th {\n        text-align: right;\n    }\n</style>\n<table border=\"1\" class=\"dataframe\">\n  <thead>\n    <tr style=\"text-align: right;\">\n      <th></th>\n      <th>vendorID</th>\n      <th>passengerCount</th>\n      <th>tripDistance</th>\n      <th>pickupLongitude</th>\n      <th>pickupLatitude</th>\n      <th>dropoffLongitude</th>\n      <th>dropoffLatitude</th>\n      <th>totalAmount</th>\n    </tr>\n  </thead>\n  <tbody>\n    <tr>\n      <th>count</th>\n      <td>24000.000000</td>\n      <td>24000.000000</td>\n      <td>24000.000000</td>\n      <td>24000.000000</td>\n      <td>24000.000000</td>\n      <td>24000.000000</td>\n      <td>24000.000000</td>\n      <td>24000.000000</td>\n    </tr>\n    <tr>\n      <th>mean</th>\n      <td>1.783000</td>\n      <td>1.367542</td>\n      <td>2.869215</td>\n      <td>-73.815030</td>\n      <td>40.683074</td>\n      <td>-73.847521</td>\n      <td>40.699964</td>\n      <td>14.702281</td>\n    </tr>\n    <tr>\n      <th>std</th>\n      <td>0.412211</td>\n      <td>1.045706</td>\n      <td>2.921003</td>\n      <td>2.978357</td>\n      <td>1.642359</td>\n      <td>2.524397</td>\n      <td>1.392212</td>\n      <td>11.751186</td>\n    </tr>\n    <tr>\n      <th>min</th>\n      <td>1.000000</td>\n      <td>0.000000</td>\n      <td>0.000000</td>\n      <td>-74.348526</td>\n      <td>0.000000</td>\n      <td>-74.187279</td>\n      <td>0.000000</td>\n      <td>-499.000000</td>\n    </tr>\n    <tr>\n      <th>25%</th>\n      <td>2.000000</td>\n      <td>1.000000</td>\n      <td>1.050000</td>\n      <td>-73.959551</td>\n      <td>40.698855</td>\n      <td>-73.966839</td>\n      <td>40.700205</td>\n      <td>7.800000</td>\n    </tr>\n    <tr>\n      <th>50%</th>\n      <td>2.000000</td>\n      <td>1.000000</td>\n      <td>1.900000</td>\n      <td>-73.945068</td>\n      <td>40.746841</td>\n      <td>-73.944237</td>\n      <td>40.747692</td>\n      <td>11.300000</td>\n    </tr>\n    <tr>\n      <th>75%</th>\n      <td>2.000000</td>\n      <td>1.000000</td>\n      <td>3.610000</td>\n      <td>-73.916700</td>\n      <td>40.803376</td>\n      <td>-73.908926</td>\n      <td>40.792242</td>\n      <td>17.800000</td>\n    </tr>\n    <tr>\n      <th>max</th>\n      <td>2.000000</td>\n      <td>9.000000</td>\n      <td>52.800000</td>\n      <td>0.000000</td>\n      <td>40.906429</td>\n      <td>0.000000</td>\n      <td>41.062893</td>\n      <td>295.000000</td>\n    </tr>\n  </tbody>\n</table>\n</div>"
          },
          "metadata": {}
        }
      ],
      "execution_count": 5,
      "metadata": {
        "jupyter": {
          "source_hidden": false,
          "outputs_hidden": false
        },
        "nteract": {
          "transient": {
            "deleting": false
          }
        },
        "gather": {
          "logged": 1641714032323
        }
      }
    },
    {
      "cell_type": "code",
      "source": [
        "final_df = green_taxi_df.query(\"pickupLatitude>=40.53 and pickupLatitude<=40.88\")\r\n",
        "final_df = final_df.query(\"pickupLongitude>=-74.09 and pickupLongitude<=-73.72\")\r\n",
        "final_df = final_df.query(\"tripDistance>=0.25 and tripDistance<31\")\r\n",
        "final_df = final_df.query(\"passengerCount>0 and totalAmount>0\")\r\n",
        "\r\n",
        "columns_to_remove_for_training = [\"pickupLongitude\", \"pickupLatitude\", \"dropoffLongitude\", \"dropoffLatitude\"]\r\n",
        "for col in columns_to_remove_for_training:\r\n",
        "    final_df.pop(col)"
      ],
      "outputs": [],
      "execution_count": 6,
      "metadata": {
        "jupyter": {
          "source_hidden": false,
          "outputs_hidden": false
        },
        "nteract": {
          "transient": {
            "deleting": false
          }
        },
        "gather": {
          "logged": 1641714032456
        }
      }
    },
    {
      "cell_type": "code",
      "source": [
        "final_df.describe()"
      ],
      "outputs": [
        {
          "output_type": "execute_result",
          "execution_count": 7,
          "data": {
            "text/plain": "           vendorID  passengerCount  tripDistance   totalAmount\ncount  23253.000000    23253.000000  23253.000000  23253.000000\nmean       1.784501        1.372296      2.935687     14.771872\nstd        0.411177        1.051897      2.871841     10.473300\nmin        1.000000        1.000000      0.250000      0.010000\n25%        2.000000        1.000000      1.100000      8.160000\n50%        2.000000        1.000000      1.970000     11.440000\n75%        2.000000        1.000000      3.700000     17.800000\nmax        2.000000        6.000000     29.300000    210.800000",
            "text/html": "<div>\n<style scoped>\n    .dataframe tbody tr th:only-of-type {\n        vertical-align: middle;\n    }\n\n    .dataframe tbody tr th {\n        vertical-align: top;\n    }\n\n    .dataframe thead th {\n        text-align: right;\n    }\n</style>\n<table border=\"1\" class=\"dataframe\">\n  <thead>\n    <tr style=\"text-align: right;\">\n      <th></th>\n      <th>vendorID</th>\n      <th>passengerCount</th>\n      <th>tripDistance</th>\n      <th>totalAmount</th>\n    </tr>\n  </thead>\n  <tbody>\n    <tr>\n      <th>count</th>\n      <td>23253.000000</td>\n      <td>23253.000000</td>\n      <td>23253.000000</td>\n      <td>23253.000000</td>\n    </tr>\n    <tr>\n      <th>mean</th>\n      <td>1.784501</td>\n      <td>1.372296</td>\n      <td>2.935687</td>\n      <td>14.771872</td>\n    </tr>\n    <tr>\n      <th>std</th>\n      <td>0.411177</td>\n      <td>1.051897</td>\n      <td>2.871841</td>\n      <td>10.473300</td>\n    </tr>\n    <tr>\n      <th>min</th>\n      <td>1.000000</td>\n      <td>1.000000</td>\n      <td>0.250000</td>\n      <td>0.010000</td>\n    </tr>\n    <tr>\n      <th>25%</th>\n      <td>2.000000</td>\n      <td>1.000000</td>\n      <td>1.100000</td>\n      <td>8.160000</td>\n    </tr>\n    <tr>\n      <th>50%</th>\n      <td>2.000000</td>\n      <td>1.000000</td>\n      <td>1.970000</td>\n      <td>11.440000</td>\n    </tr>\n    <tr>\n      <th>75%</th>\n      <td>2.000000</td>\n      <td>1.000000</td>\n      <td>3.700000</td>\n      <td>17.800000</td>\n    </tr>\n    <tr>\n      <th>max</th>\n      <td>2.000000</td>\n      <td>6.000000</td>\n      <td>29.300000</td>\n      <td>210.800000</td>\n    </tr>\n  </tbody>\n</table>\n</div>"
          },
          "metadata": {}
        }
      ],
      "execution_count": 7,
      "metadata": {
        "jupyter": {
          "source_hidden": false,
          "outputs_hidden": false
        },
        "nteract": {
          "transient": {
            "deleting": false
          }
        },
        "gather": {
          "logged": 1641714032613
        }
      }
    },
    {
      "cell_type": "code",
      "source": [
        "import pandas as pd\n",
        "from azureml.core import Dataset\n",
        "from datetime import datetime\n",
        "from dateutil.relativedelta import relativedelta"
      ],
      "outputs": [],
      "execution_count": 8,
      "metadata": {
        "gather": {
          "logged": 1641714032750
        }
      }
    },
    {
      "cell_type": "markdown",
      "source": [
        "Begin by creating a dataframe to hold the taxi data. Then preview the data."
      ],
      "metadata": {}
    },
    {
      "cell_type": "code",
      "source": [
        "green_taxi_dataset = Dataset.Tabular.from_parquet_files(path=\"https://automlsamplenotebookdata.blob.core.windows.net/automl-sample-notebook-data/green_taxi_data.parquet\")\n",
        "green_taxi_df = green_taxi_dataset.to_pandas_dataframe()\n",
        "green_taxi_df.head(10)"
      ],
      "outputs": [
        {
          "output_type": "execute_result",
          "execution_count": 9,
          "data": {
            "text/plain": "   vendorID  lpepPickupDatetime lpepDropoffDatetime  passengerCount  \\\n0         2 2015-01-30 18:38:09 2015-01-30 19:01:49               1   \n1         1 2015-01-17 23:21:39 2015-01-17 23:35:16               1   \n2         2 2015-01-16 01:38:40 2015-01-16 01:52:55               1   \n3         2 2015-01-04 17:09:26 2015-01-04 17:16:12               1   \n4         1 2015-01-14 10:10:57 2015-01-14 10:33:30               1   \n5         2 2015-01-19 18:10:41 2015-01-19 18:32:20               1   \n6         2 2015-01-01 15:44:21 2015-01-01 15:50:16               1   \n7         2 2015-01-12 08:01:21 2015-01-12 08:14:52               5   \n8         1 2015-01-16 21:54:26 2015-01-16 22:12:39               1   \n9         2 2015-01-06 06:34:53 2015-01-06 06:44:23               1   \n\n   tripDistance puLocationId doLocationId  pickupLongitude  pickupLatitude  \\\n0          1.88         None         None       -73.996155       40.690903   \n1          2.70         None         None       -73.978508       40.687984   \n2          3.54         None         None       -73.957787       40.721779   \n3          1.00         None         None       -73.919914       40.826023   \n4          5.10         None         None       -73.943710       40.825439   \n5          7.41         None         None       -73.940918       40.839714   \n6          1.03         None         None       -73.985718       40.685646   \n7          2.94         None         None       -73.939865       40.789822   \n8          3.00         None         None       -73.957939       40.721928   \n9          2.31         None         None       -73.943825       40.810257   \n\n   dropoffLongitude  ...  fareAmount  extra mtaTax  improvementSurcharge  \\\n0        -73.964287  ...        15.0    1.0    0.5                   0.3   \n1        -73.955116  ...        11.5    0.5    0.5                   0.3   \n2        -73.963005  ...        13.5    0.5    0.5                   0.3   \n3        -73.904839  ...         6.5    0.0    0.5                   0.3   \n4        -73.982964  ...        18.5    0.0    0.5                   0.3   \n5        -73.994339  ...        24.0    0.0    0.5                   0.3   \n6        -73.996773  ...         6.5    0.0    0.5                   0.3   \n7        -73.952957  ...        12.5    0.0    0.5                   0.3   \n8        -73.926247  ...        14.0    0.5    0.5                   0.3   \n9        -73.943062  ...        10.0    0.0    0.5                   0.3   \n\n   tipAmount  tollsAmount  ehailFee totalAmount  tripType   __index_level_0__  \n0       4.00          0.0      None       20.80       1.0 2015-01-30 18:38:09  \n1       2.55          0.0      None       15.35       1.0 2015-01-17 23:21:39  \n2       2.80          0.0      None       17.60       1.0 2015-01-16 01:38:40  \n3       0.00          0.0      None        7.30       1.0 2015-01-04 17:09:26  \n4       3.85          0.0      None       23.15       1.0 2015-01-14 10:10:57  \n5       4.80          0.0      None       29.60       1.0 2015-01-19 18:10:41  \n6       1.30          0.0      None        8.60       1.0 2015-01-01 15:44:21  \n7       0.00          0.0      None       13.30       1.0 2015-01-12 08:01:21  \n8       2.00          0.0      None       17.30       1.0 2015-01-16 21:54:26  \n9       2.00          0.0      None       12.80       1.0 2015-01-06 06:34:53  \n\n[10 rows x 24 columns]",
            "text/html": "<div>\n<style scoped>\n    .dataframe tbody tr th:only-of-type {\n        vertical-align: middle;\n    }\n\n    .dataframe tbody tr th {\n        vertical-align: top;\n    }\n\n    .dataframe thead th {\n        text-align: right;\n    }\n</style>\n<table border=\"1\" class=\"dataframe\">\n  <thead>\n    <tr style=\"text-align: right;\">\n      <th></th>\n      <th>vendorID</th>\n      <th>lpepPickupDatetime</th>\n      <th>lpepDropoffDatetime</th>\n      <th>passengerCount</th>\n      <th>tripDistance</th>\n      <th>puLocationId</th>\n      <th>doLocationId</th>\n      <th>pickupLongitude</th>\n      <th>pickupLatitude</th>\n      <th>dropoffLongitude</th>\n      <th>...</th>\n      <th>fareAmount</th>\n      <th>extra</th>\n      <th>mtaTax</th>\n      <th>improvementSurcharge</th>\n      <th>tipAmount</th>\n      <th>tollsAmount</th>\n      <th>ehailFee</th>\n      <th>totalAmount</th>\n      <th>tripType</th>\n      <th>__index_level_0__</th>\n    </tr>\n  </thead>\n  <tbody>\n    <tr>\n      <th>0</th>\n      <td>2</td>\n      <td>2015-01-30 18:38:09</td>\n      <td>2015-01-30 19:01:49</td>\n      <td>1</td>\n      <td>1.88</td>\n      <td>None</td>\n      <td>None</td>\n      <td>-73.996155</td>\n      <td>40.690903</td>\n      <td>-73.964287</td>\n      <td>...</td>\n      <td>15.0</td>\n      <td>1.0</td>\n      <td>0.5</td>\n      <td>0.3</td>\n      <td>4.00</td>\n      <td>0.0</td>\n      <td>None</td>\n      <td>20.80</td>\n      <td>1.0</td>\n      <td>2015-01-30 18:38:09</td>\n    </tr>\n    <tr>\n      <th>1</th>\n      <td>1</td>\n      <td>2015-01-17 23:21:39</td>\n      <td>2015-01-17 23:35:16</td>\n      <td>1</td>\n      <td>2.70</td>\n      <td>None</td>\n      <td>None</td>\n      <td>-73.978508</td>\n      <td>40.687984</td>\n      <td>-73.955116</td>\n      <td>...</td>\n      <td>11.5</td>\n      <td>0.5</td>\n      <td>0.5</td>\n      <td>0.3</td>\n      <td>2.55</td>\n      <td>0.0</td>\n      <td>None</td>\n      <td>15.35</td>\n      <td>1.0</td>\n      <td>2015-01-17 23:21:39</td>\n    </tr>\n    <tr>\n      <th>2</th>\n      <td>2</td>\n      <td>2015-01-16 01:38:40</td>\n      <td>2015-01-16 01:52:55</td>\n      <td>1</td>\n      <td>3.54</td>\n      <td>None</td>\n      <td>None</td>\n      <td>-73.957787</td>\n      <td>40.721779</td>\n      <td>-73.963005</td>\n      <td>...</td>\n      <td>13.5</td>\n      <td>0.5</td>\n      <td>0.5</td>\n      <td>0.3</td>\n      <td>2.80</td>\n      <td>0.0</td>\n      <td>None</td>\n      <td>17.60</td>\n      <td>1.0</td>\n      <td>2015-01-16 01:38:40</td>\n    </tr>\n    <tr>\n      <th>3</th>\n      <td>2</td>\n      <td>2015-01-04 17:09:26</td>\n      <td>2015-01-04 17:16:12</td>\n      <td>1</td>\n      <td>1.00</td>\n      <td>None</td>\n      <td>None</td>\n      <td>-73.919914</td>\n      <td>40.826023</td>\n      <td>-73.904839</td>\n      <td>...</td>\n      <td>6.5</td>\n      <td>0.0</td>\n      <td>0.5</td>\n      <td>0.3</td>\n      <td>0.00</td>\n      <td>0.0</td>\n      <td>None</td>\n      <td>7.30</td>\n      <td>1.0</td>\n      <td>2015-01-04 17:09:26</td>\n    </tr>\n    <tr>\n      <th>4</th>\n      <td>1</td>\n      <td>2015-01-14 10:10:57</td>\n      <td>2015-01-14 10:33:30</td>\n      <td>1</td>\n      <td>5.10</td>\n      <td>None</td>\n      <td>None</td>\n      <td>-73.943710</td>\n      <td>40.825439</td>\n      <td>-73.982964</td>\n      <td>...</td>\n      <td>18.5</td>\n      <td>0.0</td>\n      <td>0.5</td>\n      <td>0.3</td>\n      <td>3.85</td>\n      <td>0.0</td>\n      <td>None</td>\n      <td>23.15</td>\n      <td>1.0</td>\n      <td>2015-01-14 10:10:57</td>\n    </tr>\n    <tr>\n      <th>5</th>\n      <td>2</td>\n      <td>2015-01-19 18:10:41</td>\n      <td>2015-01-19 18:32:20</td>\n      <td>1</td>\n      <td>7.41</td>\n      <td>None</td>\n      <td>None</td>\n      <td>-73.940918</td>\n      <td>40.839714</td>\n      <td>-73.994339</td>\n      <td>...</td>\n      <td>24.0</td>\n      <td>0.0</td>\n      <td>0.5</td>\n      <td>0.3</td>\n      <td>4.80</td>\n      <td>0.0</td>\n      <td>None</td>\n      <td>29.60</td>\n      <td>1.0</td>\n      <td>2015-01-19 18:10:41</td>\n    </tr>\n    <tr>\n      <th>6</th>\n      <td>2</td>\n      <td>2015-01-01 15:44:21</td>\n      <td>2015-01-01 15:50:16</td>\n      <td>1</td>\n      <td>1.03</td>\n      <td>None</td>\n      <td>None</td>\n      <td>-73.985718</td>\n      <td>40.685646</td>\n      <td>-73.996773</td>\n      <td>...</td>\n      <td>6.5</td>\n      <td>0.0</td>\n      <td>0.5</td>\n      <td>0.3</td>\n      <td>1.30</td>\n      <td>0.0</td>\n      <td>None</td>\n      <td>8.60</td>\n      <td>1.0</td>\n      <td>2015-01-01 15:44:21</td>\n    </tr>\n    <tr>\n      <th>7</th>\n      <td>2</td>\n      <td>2015-01-12 08:01:21</td>\n      <td>2015-01-12 08:14:52</td>\n      <td>5</td>\n      <td>2.94</td>\n      <td>None</td>\n      <td>None</td>\n      <td>-73.939865</td>\n      <td>40.789822</td>\n      <td>-73.952957</td>\n      <td>...</td>\n      <td>12.5</td>\n      <td>0.0</td>\n      <td>0.5</td>\n      <td>0.3</td>\n      <td>0.00</td>\n      <td>0.0</td>\n      <td>None</td>\n      <td>13.30</td>\n      <td>1.0</td>\n      <td>2015-01-12 08:01:21</td>\n    </tr>\n    <tr>\n      <th>8</th>\n      <td>1</td>\n      <td>2015-01-16 21:54:26</td>\n      <td>2015-01-16 22:12:39</td>\n      <td>1</td>\n      <td>3.00</td>\n      <td>None</td>\n      <td>None</td>\n      <td>-73.957939</td>\n      <td>40.721928</td>\n      <td>-73.926247</td>\n      <td>...</td>\n      <td>14.0</td>\n      <td>0.5</td>\n      <td>0.5</td>\n      <td>0.3</td>\n      <td>2.00</td>\n      <td>0.0</td>\n      <td>None</td>\n      <td>17.30</td>\n      <td>1.0</td>\n      <td>2015-01-16 21:54:26</td>\n    </tr>\n    <tr>\n      <th>9</th>\n      <td>2</td>\n      <td>2015-01-06 06:34:53</td>\n      <td>2015-01-06 06:44:23</td>\n      <td>1</td>\n      <td>2.31</td>\n      <td>None</td>\n      <td>None</td>\n      <td>-73.943825</td>\n      <td>40.810257</td>\n      <td>-73.943062</td>\n      <td>...</td>\n      <td>10.0</td>\n      <td>0.0</td>\n      <td>0.5</td>\n      <td>0.3</td>\n      <td>2.00</td>\n      <td>0.0</td>\n      <td>None</td>\n      <td>12.80</td>\n      <td>1.0</td>\n      <td>2015-01-06 06:34:53</td>\n    </tr>\n  </tbody>\n</table>\n<p>10 rows × 24 columns</p>\n</div>"
          },
          "metadata": {}
        }
      ],
      "execution_count": 9,
      "metadata": {
        "gather": {
          "logged": 1641714033012
        }
      }
    },
    {
      "cell_type": "markdown",
      "source": [
        "Remove some of the columns that you won't need for training or additional feature building.  Automate machine learning will automatically handle time-based features such as lpepPickupDatetime."
      ],
      "metadata": {}
    },
    {
      "cell_type": "code",
      "source": [
        "columns_to_remove = [\"lpepDropoffDatetime\", \"puLocationId\", \"doLocationId\", \"extra\", \"mtaTax\",\n",
        "                     \"improvementSurcharge\", \"tollsAmount\", \"ehailFee\", \"tripType\", \"rateCodeID\", \n",
        "                     \"storeAndFwdFlag\", \"paymentType\", \"fareAmount\", \"tipAmount\"\n",
        "                    ]\n",
        "for col in columns_to_remove:\n",
        "    green_taxi_df.pop(col)\n",
        "    \n",
        "green_taxi_df.head(5)"
      ],
      "outputs": [
        {
          "output_type": "execute_result",
          "execution_count": 10,
          "data": {
            "text/plain": "   vendorID  lpepPickupDatetime  passengerCount  tripDistance  \\\n0         2 2015-01-30 18:38:09               1          1.88   \n1         1 2015-01-17 23:21:39               1          2.70   \n2         2 2015-01-16 01:38:40               1          3.54   \n3         2 2015-01-04 17:09:26               1          1.00   \n4         1 2015-01-14 10:10:57               1          5.10   \n\n   pickupLongitude  pickupLatitude  dropoffLongitude  dropoffLatitude  \\\n0       -73.996155       40.690903        -73.964287        40.679707   \n1       -73.978508       40.687984        -73.955116        40.708138   \n2       -73.957787       40.721779        -73.963005        40.682774   \n3       -73.919914       40.826023        -73.904839        40.821404   \n4       -73.943710       40.825439        -73.982964        40.767857   \n\n   totalAmount   __index_level_0__  \n0        20.80 2015-01-30 18:38:09  \n1        15.35 2015-01-17 23:21:39  \n2        17.60 2015-01-16 01:38:40  \n3         7.30 2015-01-04 17:09:26  \n4        23.15 2015-01-14 10:10:57  ",
            "text/html": "<div>\n<style scoped>\n    .dataframe tbody tr th:only-of-type {\n        vertical-align: middle;\n    }\n\n    .dataframe tbody tr th {\n        vertical-align: top;\n    }\n\n    .dataframe thead th {\n        text-align: right;\n    }\n</style>\n<table border=\"1\" class=\"dataframe\">\n  <thead>\n    <tr style=\"text-align: right;\">\n      <th></th>\n      <th>vendorID</th>\n      <th>lpepPickupDatetime</th>\n      <th>passengerCount</th>\n      <th>tripDistance</th>\n      <th>pickupLongitude</th>\n      <th>pickupLatitude</th>\n      <th>dropoffLongitude</th>\n      <th>dropoffLatitude</th>\n      <th>totalAmount</th>\n      <th>__index_level_0__</th>\n    </tr>\n  </thead>\n  <tbody>\n    <tr>\n      <th>0</th>\n      <td>2</td>\n      <td>2015-01-30 18:38:09</td>\n      <td>1</td>\n      <td>1.88</td>\n      <td>-73.996155</td>\n      <td>40.690903</td>\n      <td>-73.964287</td>\n      <td>40.679707</td>\n      <td>20.80</td>\n      <td>2015-01-30 18:38:09</td>\n    </tr>\n    <tr>\n      <th>1</th>\n      <td>1</td>\n      <td>2015-01-17 23:21:39</td>\n      <td>1</td>\n      <td>2.70</td>\n      <td>-73.978508</td>\n      <td>40.687984</td>\n      <td>-73.955116</td>\n      <td>40.708138</td>\n      <td>15.35</td>\n      <td>2015-01-17 23:21:39</td>\n    </tr>\n    <tr>\n      <th>2</th>\n      <td>2</td>\n      <td>2015-01-16 01:38:40</td>\n      <td>1</td>\n      <td>3.54</td>\n      <td>-73.957787</td>\n      <td>40.721779</td>\n      <td>-73.963005</td>\n      <td>40.682774</td>\n      <td>17.60</td>\n      <td>2015-01-16 01:38:40</td>\n    </tr>\n    <tr>\n      <th>3</th>\n      <td>2</td>\n      <td>2015-01-04 17:09:26</td>\n      <td>1</td>\n      <td>1.00</td>\n      <td>-73.919914</td>\n      <td>40.826023</td>\n      <td>-73.904839</td>\n      <td>40.821404</td>\n      <td>7.30</td>\n      <td>2015-01-04 17:09:26</td>\n    </tr>\n    <tr>\n      <th>4</th>\n      <td>1</td>\n      <td>2015-01-14 10:10:57</td>\n      <td>1</td>\n      <td>5.10</td>\n      <td>-73.943710</td>\n      <td>40.825439</td>\n      <td>-73.982964</td>\n      <td>40.767857</td>\n      <td>23.15</td>\n      <td>2015-01-14 10:10:57</td>\n    </tr>\n  </tbody>\n</table>\n</div>"
          },
          "metadata": {}
        }
      ],
      "execution_count": 10,
      "metadata": {
        "gather": {
          "logged": 1641714033158
        }
      }
    },
    {
      "cell_type": "markdown",
      "source": [
        "### Cleanse data "
      ],
      "metadata": {}
    },
    {
      "cell_type": "markdown",
      "source": [
        "Run the `describe()` function on the new dataframe to see summary statistics for each field."
      ],
      "metadata": {}
    },
    {
      "cell_type": "code",
      "source": [
        "green_taxi_df.describe()"
      ],
      "outputs": [
        {
          "output_type": "execute_result",
          "execution_count": 11,
          "data": {
            "text/plain": "           vendorID  passengerCount  tripDistance  pickupLongitude  \\\ncount  24000.000000    24000.000000  24000.000000     24000.000000   \nmean       1.777625        1.373625      2.893981       -73.827403   \nstd        0.415850        1.046180      3.072343         2.821767   \nmin        1.000000        0.000000      0.000000       -74.357101   \n25%        2.000000        1.000000      1.050000       -73.959175   \n50%        2.000000        1.000000      1.930000       -73.945049   \n75%        2.000000        1.000000      3.700000       -73.917089   \nmax        2.000000        8.000000    154.280000         0.000000   \n\n       pickupLatitude  dropoffLongitude  dropoffLatitude   totalAmount  \ncount    24000.000000      24000.000000     24000.000000  24000.000000  \nmean        40.689730        -73.819670        40.684436     14.892744  \nstd          1.556082          2.901199         1.599776     12.339749  \nmin          0.000000        -74.342766         0.000000   -120.800000  \n25%         40.699127        -73.966476        40.699459      8.000000  \n50%         40.746754        -73.944221        40.747536     11.300000  \n75%         40.803060        -73.909061        40.791526     17.800000  \nmax         41.109089          0.000000        40.982826    425.000000  ",
            "text/html": "<div>\n<style scoped>\n    .dataframe tbody tr th:only-of-type {\n        vertical-align: middle;\n    }\n\n    .dataframe tbody tr th {\n        vertical-align: top;\n    }\n\n    .dataframe thead th {\n        text-align: right;\n    }\n</style>\n<table border=\"1\" class=\"dataframe\">\n  <thead>\n    <tr style=\"text-align: right;\">\n      <th></th>\n      <th>vendorID</th>\n      <th>passengerCount</th>\n      <th>tripDistance</th>\n      <th>pickupLongitude</th>\n      <th>pickupLatitude</th>\n      <th>dropoffLongitude</th>\n      <th>dropoffLatitude</th>\n      <th>totalAmount</th>\n    </tr>\n  </thead>\n  <tbody>\n    <tr>\n      <th>count</th>\n      <td>24000.000000</td>\n      <td>24000.000000</td>\n      <td>24000.000000</td>\n      <td>24000.000000</td>\n      <td>24000.000000</td>\n      <td>24000.000000</td>\n      <td>24000.000000</td>\n      <td>24000.000000</td>\n    </tr>\n    <tr>\n      <th>mean</th>\n      <td>1.777625</td>\n      <td>1.373625</td>\n      <td>2.893981</td>\n      <td>-73.827403</td>\n      <td>40.689730</td>\n      <td>-73.819670</td>\n      <td>40.684436</td>\n      <td>14.892744</td>\n    </tr>\n    <tr>\n      <th>std</th>\n      <td>0.415850</td>\n      <td>1.046180</td>\n      <td>3.072343</td>\n      <td>2.821767</td>\n      <td>1.556082</td>\n      <td>2.901199</td>\n      <td>1.599776</td>\n      <td>12.339749</td>\n    </tr>\n    <tr>\n      <th>min</th>\n      <td>1.000000</td>\n      <td>0.000000</td>\n      <td>0.000000</td>\n      <td>-74.357101</td>\n      <td>0.000000</td>\n      <td>-74.342766</td>\n      <td>0.000000</td>\n      <td>-120.800000</td>\n    </tr>\n    <tr>\n      <th>25%</th>\n      <td>2.000000</td>\n      <td>1.000000</td>\n      <td>1.050000</td>\n      <td>-73.959175</td>\n      <td>40.699127</td>\n      <td>-73.966476</td>\n      <td>40.699459</td>\n      <td>8.000000</td>\n    </tr>\n    <tr>\n      <th>50%</th>\n      <td>2.000000</td>\n      <td>1.000000</td>\n      <td>1.930000</td>\n      <td>-73.945049</td>\n      <td>40.746754</td>\n      <td>-73.944221</td>\n      <td>40.747536</td>\n      <td>11.300000</td>\n    </tr>\n    <tr>\n      <th>75%</th>\n      <td>2.000000</td>\n      <td>1.000000</td>\n      <td>3.700000</td>\n      <td>-73.917089</td>\n      <td>40.803060</td>\n      <td>-73.909061</td>\n      <td>40.791526</td>\n      <td>17.800000</td>\n    </tr>\n    <tr>\n      <th>max</th>\n      <td>2.000000</td>\n      <td>8.000000</td>\n      <td>154.280000</td>\n      <td>0.000000</td>\n      <td>41.109089</td>\n      <td>0.000000</td>\n      <td>40.982826</td>\n      <td>425.000000</td>\n    </tr>\n  </tbody>\n</table>\n</div>"
          },
          "metadata": {}
        }
      ],
      "execution_count": 11,
      "metadata": {
        "gather": {
          "logged": 1641714033323
        }
      }
    },
    {
      "cell_type": "markdown",
      "source": [
        "From the summary statistics, you see that there are several fields that have outliers or values that will reduce model accuracy. First filter the lat/long fields to be within the bounds of the Manhattan area. This will filter out longer taxi trips or trips that are outliers in respect to their relationship with other features. \n",
        "\n",
        "Additionally filter the `tripDistance` field to be greater than zero but less than 31 miles (the haversine distance between the two lat/long pairs). This eliminates long outlier trips that have inconsistent trip cost.\n",
        "\n",
        "Lastly, the `totalAmount` field has negative values for the taxi fares, which don't make sense in the context of our model, and the `passengerCount` field has bad data with the minimum values being zero.\n",
        "\n",
        "Filter out these anomalies using query functions, and then remove the last few columns unnecessary for training."
      ],
      "metadata": {}
    },
    {
      "cell_type": "code",
      "source": [
        "final_df = green_taxi_df.query(\"pickupLatitude>=40.53 and pickupLatitude<=40.88\")\n",
        "final_df = final_df.query(\"pickupLongitude>=-74.09 and pickupLongitude<=-73.72\")\n",
        "final_df = final_df.query(\"tripDistance>=0.25 and tripDistance<31\")\n",
        "final_df = final_df.query(\"passengerCount>0 and totalAmount>0\")\n",
        "\n",
        "columns_to_remove_for_training = [\"pickupLongitude\", \"pickupLatitude\", \"dropoffLongitude\", \"dropoffLatitude\"]\n",
        "for col in columns_to_remove_for_training:\n",
        "    final_df.pop(col)"
      ],
      "outputs": [],
      "execution_count": 12,
      "metadata": {
        "gather": {
          "logged": 1641714033452
        }
      }
    },
    {
      "cell_type": "markdown",
      "source": [
        "Call `describe()` again on the data to ensure cleansing worked as expected. You now have a prepared and cleansed set of taxi, holiday, and weather data to use for machine learning model training."
      ],
      "metadata": {}
    },
    {
      "cell_type": "code",
      "source": [
        "final_df.describe()"
      ],
      "outputs": [
        {
          "output_type": "execute_result",
          "execution_count": 13,
          "data": {
            "text/plain": "           vendorID  passengerCount  tripDistance   totalAmount\ncount  23222.000000    23222.000000  23222.000000  23222.000000\nmean       1.778572        1.374688      2.956753     14.838994\nstd        0.415217        1.046995      2.862415     10.363600\nmin        1.000000        1.000000      0.250000      0.010000\n25%        2.000000        1.000000      1.100000      8.190000\n50%        2.000000        1.000000      2.000000     11.750000\n75%        2.000000        1.000000      3.760000     17.880000\nmax        2.000000        8.000000     30.840000    191.700000",
            "text/html": "<div>\n<style scoped>\n    .dataframe tbody tr th:only-of-type {\n        vertical-align: middle;\n    }\n\n    .dataframe tbody tr th {\n        vertical-align: top;\n    }\n\n    .dataframe thead th {\n        text-align: right;\n    }\n</style>\n<table border=\"1\" class=\"dataframe\">\n  <thead>\n    <tr style=\"text-align: right;\">\n      <th></th>\n      <th>vendorID</th>\n      <th>passengerCount</th>\n      <th>tripDistance</th>\n      <th>totalAmount</th>\n    </tr>\n  </thead>\n  <tbody>\n    <tr>\n      <th>count</th>\n      <td>23222.000000</td>\n      <td>23222.000000</td>\n      <td>23222.000000</td>\n      <td>23222.000000</td>\n    </tr>\n    <tr>\n      <th>mean</th>\n      <td>1.778572</td>\n      <td>1.374688</td>\n      <td>2.956753</td>\n      <td>14.838994</td>\n    </tr>\n    <tr>\n      <th>std</th>\n      <td>0.415217</td>\n      <td>1.046995</td>\n      <td>2.862415</td>\n      <td>10.363600</td>\n    </tr>\n    <tr>\n      <th>min</th>\n      <td>1.000000</td>\n      <td>1.000000</td>\n      <td>0.250000</td>\n      <td>0.010000</td>\n    </tr>\n    <tr>\n      <th>25%</th>\n      <td>2.000000</td>\n      <td>1.000000</td>\n      <td>1.100000</td>\n      <td>8.190000</td>\n    </tr>\n    <tr>\n      <th>50%</th>\n      <td>2.000000</td>\n      <td>1.000000</td>\n      <td>2.000000</td>\n      <td>11.750000</td>\n    </tr>\n    <tr>\n      <th>75%</th>\n      <td>2.000000</td>\n      <td>1.000000</td>\n      <td>3.760000</td>\n      <td>17.880000</td>\n    </tr>\n    <tr>\n      <th>max</th>\n      <td>2.000000</td>\n      <td>8.000000</td>\n      <td>30.840000</td>\n      <td>191.700000</td>\n    </tr>\n  </tbody>\n</table>\n</div>"
          },
          "metadata": {}
        }
      ],
      "execution_count": 13,
      "metadata": {
        "gather": {
          "logged": 1641714033591
        }
      }
    },
    {
      "cell_type": "markdown",
      "source": [
        "## Configure workspace\n"
      ],
      "metadata": {}
    },
    {
      "cell_type": "markdown",
      "source": [
        "Create a workspace object from the existing workspace. A [Workspace](https://docs.microsoft.com/python/api/azureml-core/azureml.core.workspace.workspace?view=azure-ml-py) is a class that accepts your Azure subscription and resource information. It also creates a cloud resource to monitor and track your model runs. `Workspace.from_config()` reads the file **config.json** and loads the authentication details into an object named `ws`. `ws` is used throughout the rest of the code in this tutorial."
      ],
      "metadata": {}
    },
    {
      "cell_type": "code",
      "source": [
        "from azureml.core.workspace import Workspace\n",
        "ws = Workspace.from_config()"
      ],
      "outputs": [],
      "execution_count": 14,
      "metadata": {
        "gather": {
          "logged": 1641714033736
        }
      }
    },
    {
      "cell_type": "markdown",
      "source": [
        "## Split the data into train and test sets"
      ],
      "metadata": {}
    },
    {
      "cell_type": "markdown",
      "source": [
        "Split the data into training and test sets by using the `train_test_split` function in the `scikit-learn` library. This function segregates the data into the x (**features**) data set for model training and the y (**values to predict**) data set for testing. The `test_size` parameter determines the percentage of data to allocate to testing. The `random_state` parameter sets a seed to the random generator, so that your train-test splits are deterministic."
      ],
      "metadata": {}
    },
    {
      "cell_type": "code",
      "source": [
        "from sklearn.model_selection import train_test_split\n",
        "\n",
        "x_train, x_test = train_test_split(final_df, test_size=0.2, random_state=223)"
      ],
      "outputs": [],
      "execution_count": 15,
      "metadata": {
        "gather": {
          "logged": 1641714034533
        }
      }
    },
    {
      "cell_type": "markdown",
      "source": [
        "The purpose of this step is to have data points to test the finished model that haven't been used to train the model, in order to measure true accuracy. \n",
        "\n",
        "In other words, a well-trained model should be able to accurately make predictions from data it hasn't already seen. You now have data prepared for auto-training a machine learning model."
      ],
      "metadata": {}
    },
    {
      "cell_type": "markdown",
      "source": [
        "## Automatically train a model"
      ],
      "metadata": {}
    },
    {
      "cell_type": "markdown",
      "source": [
        "To automatically train a model, take the following steps:\n",
        "1. Define settings for the experiment run. Attach your training data to the configuration, and modify settings that control the training process.\n",
        "1. Submit the experiment for model tuning. After submitting the experiment, the process iterates through different machine learning algorithms and hyperparameter settings, adhering to your defined constraints. It chooses the best-fit model by optimizing an accuracy metric."
      ],
      "metadata": {}
    },
    {
      "cell_type": "markdown",
      "source": [
        "### Define training settings"
      ],
      "metadata": {}
    },
    {
      "cell_type": "markdown",
      "source": [
        "Define the experiment parameter and model settings for training. View the full list of [settings](https://docs.microsoft.com/azure/machine-learning/service/how-to-configure-auto-train). Submitting the experiment with these default settings will take approximately 20 minutes, but if you want a shorter run time, reduce the `experiment_timeout_hours` parameter.\n",
        "\n",
        "\n",
        "|Property| Value in this tutorial |Description|\n",
        "|----|----|---|\n",
        "|**iteration_timeout_minutes**|10|Time limit in minutes for each iteration. Increase this value for larger datasets that need more time for each iteration.|\n",
        "|**experiment_timeout_hours**|0.3|Maximum amount of time in hours that all iterations combined can take before the experiment terminates.|\n",
        "|**enable_early_stopping**|True|Flag to enable early termination if the score is not improving in the short term.|\n",
        "|**primary_metric**| spearman_correlation | Metric that you want to optimize. The best-fit model will be chosen based on this metric.|\n",
        "|**featurization**| auto | By using auto, the experiment can preprocess the input data (handling missing data, converting text to numeric, etc.)|\n",
        "|**verbosity**| logging.INFO | Controls the level of logging.|\n",
        "|**n_cross_validations**|5|Number of cross-validation splits to perform when validation data is not specified.|"
      ],
      "metadata": {}
    },
    {
      "cell_type": "code",
      "source": [
        "import logging\n",
        "\n",
        "automl_settings = {\n",
        "    \"iteration_timeout_minutes\": 10,\n",
        "    \"experiment_timeout_hours\": 0.3,\n",
        "    \"enable_early_stopping\": True,\n",
        "    \"primary_metric\": 'spearman_correlation',\n",
        "    \"featurization\": 'auto',\n",
        "    \"verbosity\": logging.INFO,\n",
        "    \"n_cross_validations\": 5\n",
        "}"
      ],
      "outputs": [],
      "execution_count": 16,
      "metadata": {
        "gather": {
          "logged": 1641714034849
        }
      }
    },
    {
      "cell_type": "markdown",
      "source": [
        "Use your defined training settings as a `**kwargs` parameter to an `AutoMLConfig` object. Additionally, specify your training data and the type of model, which is `regression` in this case."
      ],
      "metadata": {}
    },
    {
      "cell_type": "code",
      "source": [
        "from azureml.train.automl import AutoMLConfig\n",
        "\n",
        "automl_config = AutoMLConfig(task='regression',\n",
        "                             debug_log='automated_ml_errors.log',\n",
        "                             training_data=x_train,\n",
        "                             label_column_name=\"totalAmount\",\n",
        "                             **automl_settings)"
      ],
      "outputs": [],
      "execution_count": 17,
      "metadata": {
        "gather": {
          "logged": 1641714034977
        }
      }
    },
    {
      "cell_type": "markdown",
      "source": [
        "Automated machine learning pre-processing steps (feature normalization, handling missing data, converting text to numeric, etc.) become part of the underlying model. When using the model for predictions, the same pre-processing steps applied during training are applied to your input data automatically."
      ],
      "metadata": {}
    },
    {
      "cell_type": "markdown",
      "source": [
        "### Train the automatic regression model"
      ],
      "metadata": {}
    },
    {
      "cell_type": "markdown",
      "source": [
        "Create an experiment object in your workspace. An experiment acts as a container for your individual runs. Pass the defined `automl_config` object to the experiment, and set the output to `True` to view progress during the run. \n",
        "\n",
        "After starting the experiment, the output shown updates live as the experiment runs. For each iteration, you see the model type, the run duration, and the training accuracy. The field `BEST` tracks the best running training score based on your metric type."
      ],
      "metadata": {}
    },
    {
      "cell_type": "code",
      "source": [
        "from azureml.core.experiment import Experiment\n",
        "experiment = Experiment(ws, \"Tutorial-NYCTaxi\")\n",
        "local_run = experiment.submit(automl_config, show_output=True)"
      ],
      "outputs": [
        {
          "output_type": "stream",
          "name": "stdout",
          "text": "No run_configuration provided, running on local with default configuration\nRunning in the active local environment.\n"
        },
        {
          "output_type": "stream",
          "name": "stderr",
          "text": "2022-01-09:07:40:48,554 INFO     [modeling_bert.py:226] Better speed can be achieved with apex installed from https://www.github.com/nvidia/apex .\n2022-01-09:07:40:48,579 INFO     [modeling_xlnet.py:339] Better speed can be achieved with apex installed from https://www.github.com/nvidia/apex .\n"
        },
        {
          "output_type": "display_data",
          "data": {
            "text/plain": "<IPython.core.display.HTML object>",
            "text/html": "<table style=\"width:100%\"><tr><th>Experiment</th><th>Id</th><th>Type</th><th>Status</th><th>Details Page</th><th>Docs Page</th></tr><tr><td>Tutorial-NYCTaxi</td><td>AutoML_44e803e7-edd8-4ee4-8470-23b47774529a</td><td>automl</td><td>Preparing</td><td><a href=\"https://ml.azure.com/runs/AutoML_44e803e7-edd8-4ee4-8470-23b47774529a?wsid=/subscriptions/42987aff-66bf-4e3f-97b2-6489495e6f17/resourcegroups/mod9rg/workspaces/fairnessML&amp;tid=44ce2c82-ed0c-4def-9a56-03ce54252d6e\" target=\"_blank\" rel=\"noopener\">Link to Azure Machine Learning studio</a></td><td><a href=\"https://docs.microsoft.com/en-us/python/api/overview/azure/ml/intro?view=azure-ml-py\" target=\"_blank\" rel=\"noopener\">Link to Documentation</a></td></tr></table>"
          },
          "metadata": {}
        },
        {
          "output_type": "stream",
          "name": "stdout",
          "text": "Current status: DatasetEvaluation. Gathering dataset statistics.\nCurrent status: FeaturesGeneration. Generating features for the dataset.\nCurrent status: DatasetFeaturization. Beginning to fit featurizers and featurize the dataset.\nCurrent status: DatasetFeaturizationCompleted. Completed fit featurizers and featurizing the dataset.\nCurrent status: DatasetCrossValidationSplit. Generating individually featurized CV splits.\n\n****************************************************************************************************\nDATA GUARDRAILS: \n\nTYPE:         Missing feature values imputation\nSTATUS:       PASSED\nDESCRIPTION:  No feature missing values were detected in the training data.\n              Learn more about missing value imputation: https://aka.ms/AutomatedMLFeaturization\n\n****************************************************************************************************\n\nTYPE:         High cardinality feature detection\nSTATUS:       PASSED\nDESCRIPTION:  Your inputs were analyzed, and no high cardinality features were detected.\n              Learn more about high cardinality feature handling: https://aka.ms/AutomatedMLFeaturization\n\n****************************************************************************************************\nCurrent status: ModelSelection. Beginning model selection.\n\n****************************************************************************************************\nITERATION: The iteration being evaluated.\nPIPELINE: A summary description of the pipeline being evaluated.\nDURATION: Time taken for the current iteration.\nMETRIC: The result of computing score on the fitted pipeline.\nBEST: The best observed score thus far.\n****************************************************************************************************\n\n ITERATION   PIPELINE                                       DURATION      METRIC      BEST\n         0   MaxAbsScaler LightGBM                          0:00:27       0.9496    0.9496\n         1   MaxAbsScaler XGBoostRegressor                  0:00:30       0.9488    0.9496\n         2   MaxAbsScaler ElasticNet                        0:00:24       0.9456    0.9496\n         3   StandardScalerWrapper XGBoostRegressor         0:00:34       0.9472    0.9496\n         4   StandardScalerWrapper XGBoostRegressor         0:00:24       0.9397    0.9496\n         5   StandardScalerWrapper ExtremeRandomTrees       0:00:25       0.8865    0.9496\n         6   StandardScalerWrapper RandomForest             0:00:35       0.9469    0.9496\n         7   StandardScalerWrapper DecisionTree             0:00:23       0.9458    0.9496\n         8   StandardScalerWrapper LightGBM                 0:00:27       0.9479    0.9496\n         9   StandardScalerWrapper LightGBM                 0:00:33       0.9401    0.9496\n        10   StandardScalerWrapper ElasticNet               0:00:22       0.9458    0.9496\n        11   StandardScalerWrapper ElasticNet               0:00:38       0.9456    0.9496\n        12   MaxAbsScaler ExtremeRandomTrees                0:03:38       0.9275    0.9496\n        13   StandardScalerWrapper XGBoostRegressor         0:00:32       0.9473    0.9496\n        14   StandardScalerWrapper DecisionTree             0:00:23       0.9455    0.9496\n        15   StandardScalerWrapper ElasticNet               0:00:23       0.9456    0.9496\n        16   StandardScalerWrapper ExtremeRandomTrees       0:00:50       0.9430    0.9496\n        17   MaxAbsScaler DecisionTree                      0:00:25       0.9429    0.9496\n        18   MaxAbsScaler SGD                               0:00:23       0.9454    0.9496\n        19   SparseNormalizer XGBoostRegressor              0:01:10       0.9460    0.9496\n        20   MaxAbsScaler RandomForest                      0:00:32       0.9481    0.9496\n        21   StandardScalerWrapper ExtremeRandomTrees       0:01:43       0.9462    0.9496\n        22   StandardScalerWrapper ElasticNet               0:00:23       0.9459    0.9496\n        23                                                  0:02:02          nan    0.9496\nERROR: Iteration timeout reached, skipping execution of the child run. Consider increasing iteration_timeout_minutes.\n        24   VotingEnsemble                                 0:00:32       0.9499    0.9499\n        25   StackEnsemble                                  0:00:34       0.9495    0.9499\nStopping criteria reached at iteration 26. Ending experiment.\n****************************************************************************************************\nCurrent status: BestRunExplainModel. Best run model explanations started\nCurrent status: ModelExplanationDataSetSetup. Model explanations data setup completed\nCurrent status: PickSurrogateModel. Choosing LightGBM as the surrogate model for explanations\nCurrent status: EngineeredFeatureExplanations. Computation of engineered features started\nCurrent status: EngineeredFeatureExplanations. Computation of engineered features completed\nCurrent status: RawFeaturesExplanations. Computation of raw features started\nCurrent status: RawFeaturesExplanations. Computation of raw features completed\nCurrent status: BestRunExplainModel. Best run model explanations completed\n****************************************************************************************************\n"
        },
        {
          "output_type": "stream",
          "name": "stderr",
          "text": "2022-01-09:08:00:09,919 INFO     [logging_handler.py:290] Sending 2618 bytes\n2022-01-09:08:00:09,921 INFO     [logging_handler.py:304] Finish uploading in 0.491675 seconds.\n2022-01-09:08:02:17,381 INFO     [explanation_client.py:332] Using default datastore for uploads\n"
        }
      ],
      "execution_count": 18,
      "metadata": {
        "gather": {
          "logged": 1641715341285
        }
      }
    },
    {
      "cell_type": "markdown",
      "source": [
        "## Explore the results"
      ],
      "metadata": {}
    },
    {
      "cell_type": "markdown",
      "source": [
        "Explore the results of automatic training with a [Jupyter widget](https://docs.microsoft.com/python/api/azureml-widgets/azureml.widgets?view=azure-ml-py). The widget allows you to see a graph and table of all individual run iterations, along with training accuracy metrics and metadata. Additionally, you can filter on different accuracy metrics than your primary metric with the dropdown selector."
      ],
      "metadata": {}
    },
    {
      "cell_type": "code",
      "source": [
        "from azureml.widgets import RunDetails\n",
        "RunDetails(local_run).show()"
      ],
      "outputs": [
        {
          "output_type": "display_data",
          "data": {
            "text/plain": "_AutoMLWidget(widget_settings={'childWidgetDisplay': 'popup', 'send_telemetry': False, 'log_level': 'INFO', 's…",
            "application/vnd.jupyter.widget-view+json": {
              "version_major": 2,
              "version_minor": 0,
              "model_id": "f8ace02b5df6473d9398aec74c09f0e0"
            }
          },
          "metadata": {}
        },
        {
          "output_type": "display_data",
          "data": {
            "application/aml.mini.widget.v1": "{\"status\": \"Completed\", \"workbench_run_details_uri\": \"https://ml.azure.com/runs/AutoML_44e803e7-edd8-4ee4-8470-23b47774529a?wsid=/subscriptions/42987aff-66bf-4e3f-97b2-6489495e6f17/resourcegroups/mod9rg/workspaces/fairnessML&tid=44ce2c82-ed0c-4def-9a56-03ce54252d6e\", \"run_id\": \"AutoML_44e803e7-edd8-4ee4-8470-23b47774529a\", \"run_properties\": {\"run_id\": \"AutoML_44e803e7-edd8-4ee4-8470-23b47774529a\", \"created_utc\": \"2022-01-09T07:41:10.095816Z\", \"properties\": {\"num_iterations\": \"1000\", \"training_type\": \"TrainFull\", \"acquisition_function\": \"EI\", \"primary_metric\": \"spearman_correlation\", \"train_split\": \"0\", \"acquisition_parameter\": \"0\", \"num_cross_validation\": \"5\", \"target\": \"local\", \"AMLSettingsJsonString\": \"{\\\"path\\\":null,\\\"name\\\":\\\"Tutorial-NYCTaxi\\\",\\\"subscription_id\\\":\\\"42987aff-66bf-4e3f-97b2-6489495e6f17\\\",\\\"resource_group\\\":\\\"mod9rg\\\",\\\"workspace_name\\\":\\\"fairnessML\\\",\\\"region\\\":\\\"eastus2\\\",\\\"compute_target\\\":\\\"local\\\",\\\"spark_service\\\":null,\\\"azure_service\\\":\\\"Microsoft.AzureNotebookVM\\\",\\\"many_models\\\":false,\\\"pipeline_fetch_max_batch_size\\\":1,\\\"enable_batch_run\\\":false,\\\"enable_run_restructure\\\":false,\\\"start_auxiliary_runs_before_parent_complete\\\":false,\\\"enable_code_generation\\\":false,\\\"iterations\\\":1000,\\\"primary_metric\\\":\\\"spearman_correlation\\\",\\\"task_type\\\":\\\"regression\\\",\\\"positive_label\\\":null,\\\"data_script\\\":null,\\\"test_size\\\":0.0,\\\"test_include_predictions_only\\\":false,\\\"validation_size\\\":0.0,\\\"n_cross_validations\\\":5,\\\"y_min\\\":null,\\\"y_max\\\":null,\\\"num_classes\\\":null,\\\"featurization\\\":\\\"auto\\\",\\\"_ignore_package_version_incompatibilities\\\":false,\\\"is_timeseries\\\":false,\\\"max_cores_per_iteration\\\":1,\\\"max_concurrent_iterations\\\":1,\\\"iteration_timeout_minutes\\\":10,\\\"mem_in_mb\\\":null,\\\"enforce_time_on_windows\\\":false,\\\"experiment_timeout_minutes\\\":18,\\\"experiment_exit_score\\\":null,\\\"whitelist_models\\\":null,\\\"blacklist_algos\\\":[\\\"TensorFlowDNN\\\",\\\"TensorFlowLinearRegressor\\\"],\\\"supported_models\\\":[\\\"ElasticNet\\\",\\\"GradientBoosting\\\",\\\"OnlineGradientDescentRegressor\\\",\\\"DecisionTree\\\",\\\"LassoLars\\\",\\\"TensorFlowLinearRegressor\\\",\\\"SGD\\\",\\\"KNN\\\",\\\"ExtremeRandomTrees\\\",\\\"RandomForest\\\",\\\"XGBoostRegressor\\\",\\\"TensorFlowDNN\\\",\\\"FastLinearRegressor\\\",\\\"LightGBM\\\"],\\\"private_models\\\":[\\\"TabnetRegressor\\\"],\\\"auto_blacklist\\\":true,\\\"blacklist_samples_reached\\\":false,\\\"exclude_nan_labels\\\":true,\\\"verbosity\\\":20,\\\"_debug_log\\\":\\\"automated_ml_errors.log\\\",\\\"show_warnings\\\":false,\\\"model_explainability\\\":true,\\\"service_url\\\":null,\\\"sdk_url\\\":null,\\\"sdk_packages\\\":null,\\\"enable_onnx_compatible_models\\\":false,\\\"enable_split_onnx_featurizer_estimator_models\\\":false,\\\"vm_type\\\":null,\\\"telemetry_verbosity\\\":20,\\\"send_telemetry\\\":true,\\\"enable_dnn\\\":false,\\\"scenario\\\":\\\"SDK-1.13.0\\\",\\\"environment_label\\\":null,\\\"save_mlflow\\\":false,\\\"enable_categorical_indicators\\\":false,\\\"force_text_dnn\\\":false,\\\"enable_feature_sweeping\\\":true,\\\"enable_early_stopping\\\":true,\\\"early_stopping_n_iters\\\":10,\\\"arguments\\\":null,\\\"dataset_id\\\":null,\\\"hyperdrive_config\\\":null,\\\"validation_dataset_id\\\":null,\\\"run_source\\\":null,\\\"metrics\\\":null,\\\"enable_metric_confidence\\\":false,\\\"enable_ensembling\\\":true,\\\"enable_stack_ensembling\\\":true,\\\"ensemble_iterations\\\":15,\\\"enable_tf\\\":false,\\\"enable_subsampling\\\":null,\\\"subsample_seed\\\":null,\\\"enable_nimbusml\\\":false,\\\"enable_streaming\\\":false,\\\"force_streaming\\\":false,\\\"track_child_runs\\\":true,\\\"allowed_private_models\\\":[],\\\"label_column_name\\\":\\\"totalAmount\\\",\\\"weight_column_name\\\":null,\\\"cv_split_column_names\\\":null,\\\"enable_local_managed\\\":false,\\\"_local_managed_run_id\\\":null,\\\"cost_mode\\\":1,\\\"lag_length\\\":0,\\\"metric_operation\\\":\\\"maximize\\\",\\\"preprocess\\\":true}\", \"DataPrepJsonString\": null, \"EnableSubsampling\": null, \"runTemplate\": \"AutoML\", \"azureml.runsource\": \"automl\", \"display_task_type\": \"regression\", \"dependencies_versions\": \"{\\\"azureml-widgets\\\": \\\"1.36.0\\\", \\\"azureml-train\\\": \\\"1.36.0\\\", \\\"azureml-train-restclients-hyperdrive\\\": \\\"1.36.0\\\", \\\"azureml-train-core\\\": \\\"1.36.0\\\", \\\"azureml-train-automl\\\": \\\"1.36.0\\\", \\\"azureml-train-automl-runtime\\\": \\\"1.36.0\\\", \\\"azureml-train-automl-client\\\": \\\"1.36.0\\\", \\\"azureml-tensorboard\\\": \\\"1.36.0\\\", \\\"azureml-telemetry\\\": \\\"1.36.0\\\", \\\"azureml-sdk\\\": \\\"1.36.0\\\", \\\"azureml-samples\\\": \\\"0+unknown\\\", \\\"azureml-responsibleai\\\": \\\"1.36.0\\\", \\\"azureml-pipeline\\\": \\\"1.36.0\\\", \\\"azureml-pipeline-steps\\\": \\\"1.36.0\\\", \\\"azureml-pipeline-core\\\": \\\"1.36.0\\\", \\\"azureml-opendatasets\\\": \\\"1.36.0\\\", \\\"azureml-mlflow\\\": \\\"1.36.0\\\", \\\"azureml-interpret\\\": \\\"1.36.0\\\", \\\"azureml-inference-server-http\\\": \\\"0.4.1\\\", \\\"azureml-explain-model\\\": \\\"1.36.0\\\", \\\"azureml-defaults\\\": \\\"1.36.0\\\", \\\"azureml-dataset-runtime\\\": \\\"1.36.0\\\", \\\"azureml-dataprep\\\": \\\"2.24.4\\\", \\\"azureml-dataprep-rslex\\\": \\\"2.0.3\\\", \\\"azureml-dataprep-native\\\": \\\"38.0.0\\\", \\\"azureml-datadrift\\\": \\\"1.36.0\\\", \\\"azureml-core\\\": \\\"1.36.0.post2\\\", \\\"azureml-contrib-services\\\": \\\"1.36.0\\\", \\\"azureml-contrib-server\\\": \\\"1.36.0\\\", \\\"azureml-contrib-reinforcementlearning\\\": \\\"1.36.0\\\", \\\"azureml-contrib-pipeline-steps\\\": \\\"1.36.0\\\", \\\"azureml-contrib-notebook\\\": \\\"1.36.0\\\", \\\"azureml-contrib-fairness\\\": \\\"1.36.0\\\", \\\"azureml-contrib-dataset\\\": \\\"1.36.0\\\", \\\"azureml-contrib-automl-pipeline-steps\\\": \\\"1.36.0\\\", \\\"azureml-cli-common\\\": \\\"1.36.0\\\", \\\"azureml-automl-runtime\\\": \\\"1.36.0\\\", \\\"azureml-automl-dnn-nlp\\\": \\\"1.36.0\\\", \\\"azureml-automl-core\\\": \\\"1.36.0\\\", \\\"azureml-accel-models\\\": \\\"1.36.0\\\"}\", \"_aml_system_scenario_identification\": \"Local.Parent\", \"ClientSdkVersion\": \"1.36.0\", \"ClientType\": \"SDK\", \"environment_cpu_name\": \"AzureML-AutoML\", \"environment_cpu_label\": \"prod\", \"environment_gpu_name\": \"AzureML-AutoML-GPU\", \"environment_gpu_label\": \"prod\", \"root_attribution\": \"automl\", \"attribution\": \"AutoML\", \"Orchestrator\": \"AutoML\", \"_azureml.ComputeTargetType\": \"local\", \"ProblemInfoJsonString\": \"{\\\"dataset_num_categorical\\\": 0, \\\"is_sparse\\\": true, \\\"subsampling\\\": false, \\\"has_extra_col\\\": true, \\\"dataset_classes\\\": 995, \\\"dataset_features\\\": 29, \\\"dataset_samples\\\": 18577, \\\"single_frequency_class_detected\\\": false}\"}, \"tags\": {\"model_explain_run\": \"best_run\", \"best_score\": \"0.9499404215805424\", \"best_pipeline\": \"VotingEnsemble\", \"automl_best_child_run_id\": \"AutoML_44e803e7-edd8-4ee4-8470-23b47774529a_24\", \"model_explain_best_run_child_id\": \"AutoML_44e803e7-edd8-4ee4-8470-23b47774529a_24\"}, \"end_time_utc\": \"2022-01-09T08:01:18.564445Z\", \"status\": \"Completed\", \"log_files\": {}, \"log_groups\": [], \"run_duration\": \"0:20:08\", \"run_number\": \"28\", \"run_queued_details\": {\"status\": \"Completed\", \"details\": null}}, \"child_runs\": [{\"run_id\": \"AutoML_44e803e7-edd8-4ee4-8470-23b47774529a_0\", \"run_number\": 29, \"metric\": null, \"status\": \"Completed\", \"run_type\": null, \"training_percent\": \"100\", \"start_time\": \"2022-01-09T07:41:23.626433Z\", \"end_time\": \"2022-01-09T07:41:50.744515Z\", \"created_time\": \"2022-01-09T07:41:23.501341Z\", \"created_time_dt\": \"2022-01-09T07:41:23.501341Z\", \"duration\": \"0:00:27\", \"iteration\": \"0\", \"goal\": \"spearman_correlation_max\", \"run_name\": \"MaxAbsScaler, LightGBM\", \"run_properties\": \"copy=True\", \"primary_metric\": 0.94956656, \"best_metric\": 0.94956656}, {\"run_id\": \"AutoML_44e803e7-edd8-4ee4-8470-23b47774529a_1\", \"run_number\": 30, \"metric\": null, \"status\": \"Completed\", \"run_type\": null, \"training_percent\": \"100\", \"start_time\": \"2022-01-09T07:41:51.065809Z\", \"end_time\": \"2022-01-09T07:42:21.373201Z\", \"created_time\": \"2022-01-09T07:41:50.940332Z\", \"created_time_dt\": \"2022-01-09T07:41:50.940332Z\", \"duration\": \"0:00:30\", \"iteration\": \"1\", \"goal\": \"spearman_correlation_max\", \"run_name\": \"MaxAbsScaler, XGBoostRegressor\", \"run_properties\": \"copy=True\", \"primary_metric\": 0.94882035, \"best_metric\": 0.94956656}, {\"run_id\": \"AutoML_44e803e7-edd8-4ee4-8470-23b47774529a_2\", \"run_number\": 31, \"metric\": null, \"status\": \"Completed\", \"run_type\": null, \"training_percent\": \"100\", \"start_time\": \"2022-01-09T07:42:22.166068Z\", \"end_time\": \"2022-01-09T07:42:46.238097Z\", \"created_time\": \"2022-01-09T07:42:22.04369Z\", \"created_time_dt\": \"2022-01-09T07:42:22.04369Z\", \"duration\": \"0:00:24\", \"iteration\": \"2\", \"goal\": \"spearman_correlation_max\", \"run_name\": \"MaxAbsScaler, ElasticNet\", \"run_properties\": \"copy=True\", \"primary_metric\": 0.94564573, \"best_metric\": 0.94956656}, {\"run_id\": \"AutoML_44e803e7-edd8-4ee4-8470-23b47774529a_3\", \"run_number\": 32, \"metric\": null, \"status\": \"Completed\", \"run_type\": null, \"training_percent\": \"100\", \"start_time\": \"2022-01-09T07:42:47.97452Z\", \"end_time\": \"2022-01-09T07:43:22.20241Z\", \"created_time\": \"2022-01-09T07:42:47.862453Z\", \"created_time_dt\": \"2022-01-09T07:42:47.862453Z\", \"duration\": \"0:00:34\", \"iteration\": \"3\", \"goal\": \"spearman_correlation_max\", \"run_name\": \"StandardScalerWrapper, XGBoostRegressor\", \"run_properties\": \"\\n    copy=True,\\n    with_mean=False,\\n    with_std=False\\n\", \"primary_metric\": 0.94719203, \"best_metric\": 0.94956656}, {\"run_id\": \"AutoML_44e803e7-edd8-4ee4-8470-23b47774529a_4\", \"run_number\": 33, \"metric\": null, \"status\": \"Completed\", \"run_type\": null, \"training_percent\": \"100\", \"start_time\": \"2022-01-09T07:43:23.421605Z\", \"end_time\": \"2022-01-09T07:43:48.310987Z\", \"created_time\": \"2022-01-09T07:43:23.301427Z\", \"created_time_dt\": \"2022-01-09T07:43:23.301427Z\", \"duration\": \"0:00:25\", \"iteration\": \"4\", \"goal\": \"spearman_correlation_max\", \"run_name\": \"StandardScalerWrapper, XGBoostRegressor\", \"run_properties\": \"\\n    copy=True,\\n    with_mean=False,\\n    with_std=False\\n\", \"primary_metric\": 0.93967836, \"best_metric\": 0.94956656}, {\"run_id\": \"AutoML_44e803e7-edd8-4ee4-8470-23b47774529a_5\", \"run_number\": 34, \"metric\": null, \"status\": \"Completed\", \"run_type\": null, \"training_percent\": \"100\", \"start_time\": \"2022-01-09T07:43:49.582074Z\", \"end_time\": \"2022-01-09T07:44:15.165764Z\", \"created_time\": \"2022-01-09T07:43:49.441462Z\", \"created_time_dt\": \"2022-01-09T07:43:49.441462Z\", \"duration\": \"0:00:25\", \"iteration\": \"5\", \"goal\": \"spearman_correlation_max\", \"run_name\": \"StandardScalerWrapper, ExtremeRandomTrees\", \"run_properties\": \"\\n    copy=True,\\n    with_mean=False,\\n    with_std=False\\n\", \"primary_metric\": 0.88653773, \"best_metric\": 0.94956656}, {\"run_id\": \"AutoML_44e803e7-edd8-4ee4-8470-23b47774529a_6\", \"run_number\": 35, \"metric\": null, \"status\": \"Completed\", \"run_type\": null, \"training_percent\": \"100\", \"start_time\": \"2022-01-09T07:44:17.042818Z\", \"end_time\": \"2022-01-09T07:44:52.566048Z\", \"created_time\": \"2022-01-09T07:44:16.917598Z\", \"created_time_dt\": \"2022-01-09T07:44:16.917598Z\", \"duration\": \"0:00:35\", \"iteration\": \"6\", \"goal\": \"spearman_correlation_max\", \"run_name\": \"StandardScalerWrapper, RandomForest\", \"run_properties\": \"\\n    copy=True,\\n    with_mean=False,\\n    with_std=True\\n\", \"primary_metric\": 0.94693208, \"best_metric\": 0.94956656}, {\"run_id\": \"AutoML_44e803e7-edd8-4ee4-8470-23b47774529a_7\", \"run_number\": 36, \"metric\": null, \"status\": \"Completed\", \"run_type\": null, \"training_percent\": \"100\", \"start_time\": \"2022-01-09T07:44:53.901309Z\", \"end_time\": \"2022-01-09T07:45:17.481652Z\", \"created_time\": \"2022-01-09T07:44:53.728497Z\", \"created_time_dt\": \"2022-01-09T07:44:53.728497Z\", \"duration\": \"0:00:23\", \"iteration\": \"7\", \"goal\": \"spearman_correlation_max\", \"run_name\": \"StandardScalerWrapper, DecisionTree\", \"run_properties\": \"\\n    copy=True,\\n    with_mean=False,\\n    with_std=True\\n\", \"primary_metric\": 0.94575332, \"best_metric\": 0.94956656}, {\"run_id\": \"AutoML_44e803e7-edd8-4ee4-8470-23b47774529a_8\", \"run_number\": 37, \"metric\": null, \"status\": \"Completed\", \"run_type\": null, \"training_percent\": \"100\", \"start_time\": \"2022-01-09T07:45:18.759271Z\", \"end_time\": \"2022-01-09T07:45:46.326609Z\", \"created_time\": \"2022-01-09T07:45:18.64327Z\", \"created_time_dt\": \"2022-01-09T07:45:18.64327Z\", \"duration\": \"0:00:27\", \"iteration\": \"8\", \"goal\": \"spearman_correlation_max\", \"run_name\": \"StandardScalerWrapper, LightGBM\", \"run_properties\": \"\\n    copy=True,\\n    with_mean=False,\\n    with_std=True\\n\", \"primary_metric\": 0.94785172, \"best_metric\": 0.94956656}, {\"run_id\": \"AutoML_44e803e7-edd8-4ee4-8470-23b47774529a_9\", \"run_number\": 38, \"metric\": null, \"status\": \"Completed\", \"run_type\": null, \"training_percent\": \"100\", \"start_time\": \"2022-01-09T07:45:47.514852Z\", \"end_time\": \"2022-01-09T07:46:21.164249Z\", \"created_time\": \"2022-01-09T07:45:47.383351Z\", \"created_time_dt\": \"2022-01-09T07:45:47.383351Z\", \"duration\": \"0:00:33\", \"iteration\": \"9\", \"goal\": \"spearman_correlation_max\", \"run_name\": \"StandardScalerWrapper, LightGBM\", \"run_properties\": \"\\n    copy=True,\\n    with_mean=False,\\n    with_std=False\\n\", \"primary_metric\": 0.9400813, \"best_metric\": 0.94956656}, {\"run_id\": \"AutoML_44e803e7-edd8-4ee4-8470-23b47774529a_10\", \"run_number\": 39, \"metric\": null, \"status\": \"Completed\", \"run_type\": null, \"training_percent\": \"100\", \"start_time\": \"2022-01-09T07:46:22.428691Z\", \"end_time\": \"2022-01-09T07:46:45.197793Z\", \"created_time\": \"2022-01-09T07:46:22.28993Z\", \"created_time_dt\": \"2022-01-09T07:46:22.28993Z\", \"duration\": \"0:00:22\", \"iteration\": \"10\", \"goal\": \"spearman_correlation_max\", \"run_name\": \"StandardScalerWrapper, ElasticNet\", \"run_properties\": \"\\n    copy=True,\\n    with_mean=False,\\n    with_std=True\\n\", \"primary_metric\": 0.94581966, \"best_metric\": 0.94956656}, {\"run_id\": \"AutoML_44e803e7-edd8-4ee4-8470-23b47774529a_11\", \"run_number\": 40, \"metric\": null, \"status\": \"Completed\", \"run_type\": null, \"training_percent\": \"100\", \"start_time\": \"2022-01-09T07:46:46.407174Z\", \"end_time\": \"2022-01-09T07:47:25.137441Z\", \"created_time\": \"2022-01-09T07:46:46.286535Z\", \"created_time_dt\": \"2022-01-09T07:46:46.286535Z\", \"duration\": \"0:00:38\", \"iteration\": \"11\", \"goal\": \"spearman_correlation_max\", \"run_name\": \"StandardScalerWrapper, ElasticNet\", \"run_properties\": \"\\n    copy=True,\\n    with_mean=False,\\n    with_std=False\\n\", \"primary_metric\": 0.94557577, \"best_metric\": 0.94956656}, {\"run_id\": \"AutoML_44e803e7-edd8-4ee4-8470-23b47774529a_12\", \"run_number\": 41, \"metric\": null, \"status\": \"Completed\", \"run_type\": null, \"training_percent\": \"100\", \"start_time\": \"2022-01-09T07:47:26.45565Z\", \"end_time\": \"2022-01-09T07:51:04.933217Z\", \"created_time\": \"2022-01-09T07:47:26.328405Z\", \"created_time_dt\": \"2022-01-09T07:47:26.328405Z\", \"duration\": \"0:03:38\", \"iteration\": \"12\", \"goal\": \"spearman_correlation_max\", \"run_name\": \"MaxAbsScaler, ExtremeRandomTrees\", \"run_properties\": \"copy=True\", \"primary_metric\": 0.92753973, \"best_metric\": 0.94956656}, {\"run_id\": \"AutoML_44e803e7-edd8-4ee4-8470-23b47774529a_13\", \"run_number\": 42, \"metric\": null, \"status\": \"Completed\", \"run_type\": null, \"training_percent\": \"100\", \"start_time\": \"2022-01-09T07:51:06.14278Z\", \"end_time\": \"2022-01-09T07:51:38.771033Z\", \"created_time\": \"2022-01-09T07:51:06.022987Z\", \"created_time_dt\": \"2022-01-09T07:51:06.022987Z\", \"duration\": \"0:00:32\", \"iteration\": \"13\", \"goal\": \"spearman_correlation_max\", \"run_name\": \"StandardScalerWrapper, XGBoostRegressor\", \"run_properties\": \"\\n    copy=True,\\n    with_mean=False,\\n    with_std=False\\n\", \"primary_metric\": 0.94734435, \"best_metric\": 0.94956656}, {\"run_id\": \"AutoML_44e803e7-edd8-4ee4-8470-23b47774529a_14\", \"run_number\": 43, \"metric\": null, \"status\": \"Completed\", \"run_type\": null, \"training_percent\": \"100\", \"start_time\": \"2022-01-09T07:51:40.033906Z\", \"end_time\": \"2022-01-09T07:52:03.308964Z\", \"created_time\": \"2022-01-09T07:51:39.914159Z\", \"created_time_dt\": \"2022-01-09T07:51:39.914159Z\", \"duration\": \"0:00:23\", \"iteration\": \"14\", \"goal\": \"spearman_correlation_max\", \"run_name\": \"StandardScalerWrapper, DecisionTree\", \"run_properties\": \"\\n    copy=True,\\n    with_mean=False,\\n    with_std=True\\n\", \"primary_metric\": 0.94549948, \"best_metric\": 0.94956656}, {\"run_id\": \"AutoML_44e803e7-edd8-4ee4-8470-23b47774529a_15\", \"run_number\": 44, \"metric\": null, \"status\": \"Completed\", \"run_type\": null, \"training_percent\": \"100\", \"start_time\": \"2022-01-09T07:52:04.610901Z\", \"end_time\": \"2022-01-09T07:52:28.058972Z\", \"created_time\": \"2022-01-09T07:52:04.499834Z\", \"created_time_dt\": \"2022-01-09T07:52:04.499834Z\", \"duration\": \"0:00:23\", \"iteration\": \"15\", \"goal\": \"spearman_correlation_max\", \"run_name\": \"StandardScalerWrapper, ElasticNet\", \"run_properties\": \"\\n    copy=True,\\n    with_mean=False,\\n    with_std=True\\n\", \"primary_metric\": 0.94563671, \"best_metric\": 0.94956656}, {\"run_id\": \"AutoML_44e803e7-edd8-4ee4-8470-23b47774529a_16\", \"run_number\": 45, \"metric\": null, \"status\": \"Completed\", \"run_type\": null, \"training_percent\": \"100\", \"start_time\": \"2022-01-09T07:52:29.338176Z\", \"end_time\": \"2022-01-09T07:53:19.59849Z\", \"created_time\": \"2022-01-09T07:52:29.222568Z\", \"created_time_dt\": \"2022-01-09T07:52:29.222568Z\", \"duration\": \"0:00:50\", \"iteration\": \"16\", \"goal\": \"spearman_correlation_max\", \"run_name\": \"StandardScalerWrapper, ExtremeRandomTrees\", \"run_properties\": \"\\n    copy=True,\\n    with_mean=False,\\n    with_std=False\\n\", \"primary_metric\": 0.94304956, \"best_metric\": 0.94956656}, {\"run_id\": \"AutoML_44e803e7-edd8-4ee4-8470-23b47774529a_17\", \"run_number\": 46, \"metric\": null, \"status\": \"Completed\", \"run_type\": null, \"training_percent\": \"100\", \"start_time\": \"2022-01-09T07:53:20.94503Z\", \"end_time\": \"2022-01-09T07:53:45.980051Z\", \"created_time\": \"2022-01-09T07:53:20.830112Z\", \"created_time_dt\": \"2022-01-09T07:53:20.830112Z\", \"duration\": \"0:00:25\", \"iteration\": \"17\", \"goal\": \"spearman_correlation_max\", \"run_name\": \"MaxAbsScaler, DecisionTree\", \"run_properties\": \"copy=True\", \"primary_metric\": 0.94293977, \"best_metric\": 0.94956656}, {\"run_id\": \"AutoML_44e803e7-edd8-4ee4-8470-23b47774529a_18\", \"run_number\": 47, \"metric\": null, \"status\": \"Completed\", \"run_type\": null, \"training_percent\": \"100\", \"start_time\": \"2022-01-09T07:53:47.366742Z\", \"end_time\": \"2022-01-09T07:54:10.896817Z\", \"created_time\": \"2022-01-09T07:53:47.247717Z\", \"created_time_dt\": \"2022-01-09T07:53:47.247717Z\", \"duration\": \"0:00:23\", \"iteration\": \"18\", \"goal\": \"spearman_correlation_max\", \"run_name\": \"MaxAbsScaler, SGD\", \"run_properties\": \"copy=True\", \"primary_metric\": 0.94541559, \"best_metric\": 0.94956656}, {\"run_id\": \"AutoML_44e803e7-edd8-4ee4-8470-23b47774529a_19\", \"run_number\": 48, \"metric\": null, \"status\": \"Completed\", \"run_type\": null, \"training_percent\": \"100\", \"start_time\": \"2022-01-09T07:54:12.121984Z\", \"end_time\": \"2022-01-09T07:55:22.449355Z\", \"created_time\": \"2022-01-09T07:54:11.996546Z\", \"created_time_dt\": \"2022-01-09T07:54:11.996546Z\", \"duration\": \"0:01:10\", \"iteration\": \"19\", \"goal\": \"spearman_correlation_max\", \"run_name\": \"SparseNormalizer, XGBoostRegressor\", \"run_properties\": \"copy=True, norm='l1'\", \"primary_metric\": 0.94596487, \"best_metric\": 0.94956656}, {\"run_id\": \"AutoML_44e803e7-edd8-4ee4-8470-23b47774529a_20\", \"run_number\": 49, \"metric\": null, \"status\": \"Completed\", \"run_type\": null, \"training_percent\": \"100\", \"start_time\": \"2022-01-09T07:55:23.880078Z\", \"end_time\": \"2022-01-09T07:55:56.631703Z\", \"created_time\": \"2022-01-09T07:55:23.73427Z\", \"created_time_dt\": \"2022-01-09T07:55:23.73427Z\", \"duration\": \"0:00:32\", \"iteration\": \"20\", \"goal\": \"spearman_correlation_max\", \"run_name\": \"MaxAbsScaler, RandomForest\", \"run_properties\": \"copy=True\", \"primary_metric\": 0.94809737, \"best_metric\": 0.94956656}, {\"run_id\": \"AutoML_44e803e7-edd8-4ee4-8470-23b47774529a_21\", \"run_number\": 50, \"metric\": null, \"status\": \"Completed\", \"run_type\": null, \"training_percent\": \"100\", \"start_time\": \"2022-01-09T07:55:58.068145Z\", \"end_time\": \"2022-01-09T07:57:41.367252Z\", \"created_time\": \"2022-01-09T07:55:57.943009Z\", \"created_time_dt\": \"2022-01-09T07:55:57.943009Z\", \"duration\": \"0:01:43\", \"iteration\": \"21\", \"goal\": \"spearman_correlation_max\", \"run_name\": \"StandardScalerWrapper, ExtremeRandomTrees\", \"run_properties\": \"\\n    copy=True,\\n    with_mean=False,\\n    with_std=True\\n\", \"primary_metric\": 0.94623981, \"best_metric\": 0.94956656}, {\"run_id\": \"AutoML_44e803e7-edd8-4ee4-8470-23b47774529a_22\", \"run_number\": 51, \"metric\": null, \"status\": \"Completed\", \"run_type\": null, \"training_percent\": \"100\", \"start_time\": \"2022-01-09T07:57:42.47647Z\", \"end_time\": \"2022-01-09T07:58:06.062359Z\", \"created_time\": \"2022-01-09T07:57:42.368097Z\", \"created_time_dt\": \"2022-01-09T07:57:42.368097Z\", \"duration\": \"0:00:23\", \"iteration\": \"22\", \"goal\": \"spearman_correlation_max\", \"run_name\": \"StandardScalerWrapper, ElasticNet\", \"run_properties\": \"\\n    copy=True,\\n    with_mean=False,\\n    with_std=True\\n\", \"primary_metric\": 0.94589273, \"best_metric\": 0.94956656}, {\"run_id\": \"AutoML_44e803e7-edd8-4ee4-8470-23b47774529a_23\", \"run_number\": 52, \"metric\": null, \"status\": \"Failed\", \"run_type\": null, \"training_percent\": \"100\", \"start_time\": \"2022-01-09T07:58:07.553005Z\", \"end_time\": \"2022-01-09T08:00:10.067224Z\", \"created_time\": \"2022-01-09T07:58:07.438448Z\", \"created_time_dt\": \"2022-01-09T07:58:07.438448Z\", \"duration\": \"0:02:02\", \"iteration\": \"23\", \"goal\": \"spearman_correlation_max\", \"run_name\": \"SparseNormalizer, RandomForest\", \"run_properties\": null}, {\"run_id\": \"AutoML_44e803e7-edd8-4ee4-8470-23b47774529a_24\", \"run_number\": 53, \"metric\": null, \"status\": \"Completed\", \"run_type\": null, \"training_percent\": \"100\", \"start_time\": \"2022-01-09T08:00:10.43425Z\", \"end_time\": \"2022-01-09T08:00:43.13102Z\", \"created_time\": \"2022-01-09T08:00:10.312918Z\", \"created_time_dt\": \"2022-01-09T08:00:10.312918Z\", \"duration\": \"0:00:32\", \"iteration\": \"24\", \"goal\": \"spearman_correlation_max\", \"run_name\": \"VotingEnsemble\", \"run_properties\": \"\\n    estimators=[('0', Pipeline(\\n        memory=None,\\n        steps=[('maxabsscaler', MaxAbsScaler(\\n            copy=True\\n        \", \"primary_metric\": 0.94994042, \"best_metric\": 0.94994042}, {\"run_id\": \"AutoML_44e803e7-edd8-4ee4-8470-23b47774529a_25\", \"run_number\": 54, \"metric\": null, \"status\": \"Completed\", \"run_type\": null, \"training_percent\": \"100\", \"start_time\": \"2022-01-09T08:00:43.539536Z\", \"end_time\": \"2022-01-09T08:01:18.114496Z\", \"created_time\": \"2022-01-09T08:00:43.427306Z\", \"created_time_dt\": \"2022-01-09T08:00:43.427306Z\", \"duration\": \"0:00:34\", \"iteration\": \"25\", \"goal\": \"spearman_correlation_max\", \"run_name\": \"StackEnsemble\", \"run_properties\": \"\\n    base_learners=[('0', Pipeline(\\n        memory=None,\\n        steps=[('maxabsscaler', MaxAbsScaler(\\n            copy=True\\n        \", \"primary_metric\": 0.94946478, \"best_metric\": 0.94994042}], \"children_metrics\": {\"categories\": [0], \"series\": {\"normalized_root_mean_squared_log_error\": [{\"categories\": [\"0\", \"1\", \"2\", \"3\", \"4\", \"5\", \"6\", \"7\", \"8\", \"9\", \"10\", \"11\", \"12\", \"13\", \"14\", \"15\", \"16\", \"17\", \"18\", \"19\", \"20\", \"21\", \"22\", \"24\", \"25\"], \"mode\": \"markers\", \"name\": \"normalized_root_mean_squared_log_error\", \"stepped\": false, \"type\": \"scatter\", \"data\": [0.03229014208779054, 0.03245711792762155, 0.03380678918286111, 0.032817489248350006, 0.03737889701012578, 0.06317956775746028, 0.03346909258018991, 0.033256974788904395, 0.03262000378330565, 0.03500477910710224, 0.034694719215146504, 0.03379537510474998, 0.04663894216082183, 0.032769925144752236, 0.03321293675528263, 0.035163036008826906, 0.03486824845822595, 0.03376599081565289, 0.03418548278494105, 0.033143422090401546, 0.03259786690035301, 0.03341250313933257, 0.03408305026549881, 0.03212767366476534, 0.032376764422639495]}, {\"categories\": [\"0\", \"1\", \"2\", \"3\", \"4\", \"5\", \"6\", \"7\", \"8\", \"9\", \"10\", \"11\", \"12\", \"13\", \"14\", \"15\", \"16\", \"17\", \"18\", \"19\", \"20\", \"21\", \"22\", \"24\", \"25\"], \"mode\": \"lines\", \"name\": \"normalized_root_mean_squared_log_error_min\", \"stepped\": true, \"type\": \"scatter\", \"data\": [0.03229014208779054, 0.03229014208779054, 0.03229014208779054, 0.03229014208779054, 0.03229014208779054, 0.03229014208779054, 0.03229014208779054, 0.03229014208779054, 0.03229014208779054, 0.03229014208779054, 0.03229014208779054, 0.03229014208779054, 0.03229014208779054, 0.03229014208779054, 0.03229014208779054, 0.03229014208779054, 0.03229014208779054, 0.03229014208779054, 0.03229014208779054, 0.03229014208779054, 0.03229014208779054, 0.03229014208779054, 0.03229014208779054, 0.03212767366476534, 0.03212767366476534]}], \"mean_absolute_error\": [{\"categories\": [\"0\", \"1\", \"2\", \"3\", \"4\", \"5\", \"6\", \"7\", \"8\", \"9\", \"10\", \"11\", \"12\", \"13\", \"14\", \"15\", \"16\", \"17\", \"18\", \"19\", \"20\", \"21\", \"22\", \"24\", \"25\"], \"mode\": \"markers\", \"name\": \"mean_absolute_error\", \"stepped\": false, \"type\": \"scatter\", \"data\": [2.052008049354847, 2.0268771266483316, 2.103761387293422, 2.0638773583086545, 2.294073870650802, 4.128500380325501, 2.138148415665623, 2.1192742677262335, 2.0627141172244152, 2.2705189414581257, 2.1423009759114677, 2.103165531065115, 3.175256059990119, 2.0505078676652104, 2.115259274900498, 2.1644661907962326, 2.2319340689598812, 2.136758180077482, 2.121576275017805, 2.0830582322595377, 2.0609624479705126, 2.1263640794460614, 2.1154822621554894, 2.0181979003559043, 2.0240502629977946]}, {\"categories\": [\"0\", \"1\", \"2\", \"3\", \"4\", \"5\", \"6\", \"7\", \"8\", \"9\", \"10\", \"11\", \"12\", \"13\", \"14\", \"15\", \"16\", \"17\", \"18\", \"19\", \"20\", \"21\", \"22\", \"24\", \"25\"], \"mode\": \"lines\", \"name\": \"mean_absolute_error_min\", \"stepped\": true, \"type\": \"scatter\", \"data\": [2.052008049354847, 2.0268771266483316, 2.0268771266483316, 2.0268771266483316, 2.0268771266483316, 2.0268771266483316, 2.0268771266483316, 2.0268771266483316, 2.0268771266483316, 2.0268771266483316, 2.0268771266483316, 2.0268771266483316, 2.0268771266483316, 2.0268771266483316, 2.0268771266483316, 2.0268771266483316, 2.0268771266483316, 2.0268771266483316, 2.0268771266483316, 2.0268771266483316, 2.0268771266483316, 2.0268771266483316, 2.0268771266483316, 2.0181979003559043, 2.0181979003559043]}], \"normalized_mean_absolute_error\": [{\"categories\": [\"0\", \"1\", \"2\", \"3\", \"4\", \"5\", \"6\", \"7\", \"8\", \"9\", \"10\", \"11\", \"12\", \"13\", \"14\", \"15\", \"16\", \"17\", \"18\", \"19\", \"20\", \"21\", \"22\", \"24\", \"25\"], \"mode\": \"markers\", \"name\": \"normalized_mean_absolute_error\", \"stepped\": false, \"type\": \"scatter\", \"data\": [0.010704825756976613, 0.010573723859608388, 0.01097481030462425, 0.010766745048300143, 0.011967624136109354, 0.02153738004238876, 0.011154199048806004, 0.011055737220127464, 0.010760676703137436, 0.011844743812708673, 0.011175861943301515, 0.01097170186793842, 0.016564536804163595, 0.010696999674814599, 0.01103479198132661, 0.011291492465941012, 0.01164345593906767, 0.011146946528652942, 0.011067746230986514, 0.010866806991807278, 0.010751538671660036, 0.011092723039522464, 0.011035955251476288, 0.010528446451854056, 0.010558976801073582]}, {\"categories\": [\"0\", \"1\", \"2\", \"3\", \"4\", \"5\", \"6\", \"7\", \"8\", \"9\", \"10\", \"11\", \"12\", \"13\", \"14\", \"15\", \"16\", \"17\", \"18\", \"19\", \"20\", \"21\", \"22\", \"24\", \"25\"], \"mode\": \"lines\", \"name\": \"normalized_mean_absolute_error_min\", \"stepped\": true, \"type\": \"scatter\", \"data\": [0.010704825756976613, 0.010573723859608388, 0.010573723859608388, 0.010573723859608388, 0.010573723859608388, 0.010573723859608388, 0.010573723859608388, 0.010573723859608388, 0.010573723859608388, 0.010573723859608388, 0.010573723859608388, 0.010573723859608388, 0.010573723859608388, 0.010573723859608388, 0.010573723859608388, 0.010573723859608388, 0.010573723859608388, 0.010573723859608388, 0.010573723859608388, 0.010573723859608388, 0.010573723859608388, 0.010573723859608388, 0.010573723859608388, 0.010528446451854056, 0.010528446451854056]}], \"median_absolute_error\": [{\"categories\": [\"0\", \"1\", \"2\", \"3\", \"4\", \"5\", \"6\", \"7\", \"8\", \"9\", \"10\", \"11\", \"12\", \"13\", \"14\", \"15\", \"16\", \"17\", \"18\", \"19\", \"20\", \"21\", \"22\", \"24\", \"25\"], \"mode\": \"markers\", \"name\": \"median_absolute_error\", \"stepped\": false, \"type\": \"scatter\", \"data\": [1.2121217152536183, 1.2299600658416745, 1.3700913965091124, 1.2227351303100584, 1.364818881988525, 3.0796717483309473, 1.3017316631280764, 1.2673826523900744, 1.2527054263713207, 1.352175366726189, 1.4679039022608293, 1.3685751169970843, 1.770449999999999, 1.2189726219177246, 1.2627278287510557, 1.5065297038552945, 1.421973164192232, 1.2705289544023053, 1.4047768445987332, 1.245333969116211, 1.2294733866960486, 1.3303480330865416, 1.4055517713296688, 1.2257989200100143, 1.253824652745497]}, {\"categories\": [\"0\", \"1\", \"2\", \"3\", \"4\", \"5\", \"6\", \"7\", \"8\", \"9\", \"10\", \"11\", \"12\", \"13\", \"14\", \"15\", \"16\", \"17\", \"18\", \"19\", \"20\", \"21\", \"22\", \"24\", \"25\"], \"mode\": \"lines\", \"name\": \"median_absolute_error_min\", \"stepped\": true, \"type\": \"scatter\", \"data\": [1.2121217152536183, 1.2121217152536183, 1.2121217152536183, 1.2121217152536183, 1.2121217152536183, 1.2121217152536183, 1.2121217152536183, 1.2121217152536183, 1.2121217152536183, 1.2121217152536183, 1.2121217152536183, 1.2121217152536183, 1.2121217152536183, 1.2121217152536183, 1.2121217152536183, 1.2121217152536183, 1.2121217152536183, 1.2121217152536183, 1.2121217152536183, 1.2121217152536183, 1.2121217152536183, 1.2121217152536183, 1.2121217152536183, 1.2121217152536183, 1.2121217152536183]}], \"root_mean_squared_error\": [{\"categories\": [\"0\", \"1\", \"2\", \"3\", \"4\", \"5\", \"6\", \"7\", \"8\", \"9\", \"10\", \"11\", \"12\", \"13\", \"14\", \"15\", \"16\", \"17\", \"18\", \"19\", \"20\", \"21\", \"22\", \"24\", \"25\"], \"mode\": \"markers\", \"name\": \"root_mean_squared_error\", \"stepped\": false, \"type\": \"scatter\", \"data\": [3.8885809294508, 3.895482187795005, 3.8463933538358703, 3.952392855454034, 4.320143013708838, 6.811053945231533, 4.15528653844421, 4.050926448638872, 3.9631222882928028, 4.406706690607173, 3.863852565074649, 3.8468279551302564, 6.287831978479563, 3.953827844716089, 4.033636099915861, 3.8785998540678186, 4.284380656168283, 3.9623249853062177, 3.8514270950269327, 4.024880918564153, 3.9491068338926056, 4.0883380286216555, 3.8503683548632557, 3.8178578692358456, 3.8116882821091083]}, {\"categories\": [\"0\", \"1\", \"2\", \"3\", \"4\", \"5\", \"6\", \"7\", \"8\", \"9\", \"10\", \"11\", \"12\", \"13\", \"14\", \"15\", \"16\", \"17\", \"18\", \"19\", \"20\", \"21\", \"22\", \"24\", \"25\"], \"mode\": \"lines\", \"name\": \"root_mean_squared_error_min\", \"stepped\": true, \"type\": \"scatter\", \"data\": [3.8885809294508, 3.8885809294508, 3.8463933538358703, 3.8463933538358703, 3.8463933538358703, 3.8463933538358703, 3.8463933538358703, 3.8463933538358703, 3.8463933538358703, 3.8463933538358703, 3.8463933538358703, 3.8463933538358703, 3.8463933538358703, 3.8463933538358703, 3.8463933538358703, 3.8463933538358703, 3.8463933538358703, 3.8463933538358703, 3.8463933538358703, 3.8463933538358703, 3.8463933538358703, 3.8463933538358703, 3.8463933538358703, 3.8178578692358456, 3.8116882821091083]}], \"normalized_median_absolute_error\": [{\"categories\": [\"0\", \"1\", \"2\", \"3\", \"4\", \"5\", \"6\", \"7\", \"8\", \"9\", \"10\", \"11\", \"12\", \"13\", \"14\", \"15\", \"16\", \"17\", \"18\", \"19\", \"20\", \"21\", \"22\", \"24\", \"25\"], \"mode\": \"markers\", \"name\": \"normalized_median_absolute_error\", \"stepped\": false, \"type\": \"scatter\", \"data\": [0.0063233434986364355, 0.006416401825038732, 0.007147432816052545, 0.006378711097657981, 0.007119927393127054, 0.016065896751687347, 0.006790816751672368, 0.0066116263362203265, 0.006535058826080237, 0.007053969256227184, 0.007657696813922632, 0.007139522755475425, 0.00923600605143721, 0.006359083008595777, 0.006587343256043904, 0.007859198204680968, 0.00741808735036899, 0.00662803982681572, 0.0073283783431516165, 0.0064966037305869435, 0.006413862938578166, 0.006940101377675109, 0.007332420946996028, 0.006394694141635007, 0.006540897557230407]}, {\"categories\": [\"0\", \"1\", \"2\", \"3\", \"4\", \"5\", \"6\", \"7\", \"8\", \"9\", \"10\", \"11\", \"12\", \"13\", \"14\", \"15\", \"16\", \"17\", \"18\", \"19\", \"20\", \"21\", \"22\", \"24\", \"25\"], \"mode\": \"lines\", \"name\": \"normalized_median_absolute_error_min\", \"stepped\": true, \"type\": \"scatter\", \"data\": [0.0063233434986364355, 0.0063233434986364355, 0.0063233434986364355, 0.0063233434986364355, 0.0063233434986364355, 0.0063233434986364355, 0.0063233434986364355, 0.0063233434986364355, 0.0063233434986364355, 0.0063233434986364355, 0.0063233434986364355, 0.0063233434986364355, 0.0063233434986364355, 0.0063233434986364355, 0.0063233434986364355, 0.0063233434986364355, 0.0063233434986364355, 0.0063233434986364355, 0.0063233434986364355, 0.0063233434986364355, 0.0063233434986364355, 0.0063233434986364355, 0.0063233434986364355, 0.0063233434986364355, 0.0063233434986364355]}], \"explained_variance\": [{\"categories\": [\"0\", \"1\", \"2\", \"3\", \"4\", \"5\", \"6\", \"7\", \"8\", \"9\", \"10\", \"11\", \"12\", \"13\", \"14\", \"15\", \"16\", \"17\", \"18\", \"19\", \"20\", \"21\", \"22\", \"24\", \"25\"], \"mode\": \"markers\", \"name\": \"explained_variance\", \"stepped\": false, \"type\": \"scatter\", \"data\": [0.8601162209281462, 0.8591169152720735, 0.8627964204805334, 0.8551409460659407, 0.8372870221058492, 0.5686815518101748, 0.8404448574291967, 0.8482261019257509, 0.8547529498293818, 0.8205834580362119, 0.8616249355498597, 0.8627637456508609, 0.6498885852420695, 0.8549170799076625, 0.8495362886406485, 0.8606049907054697, 0.8303664502905269, 0.8547349614168344, 0.8626389746985932, 0.849886854228725, 0.8557669912078876, 0.8455205634060057, 0.8625403582259258, 0.865066188540415, 0.8653380738092802]}, {\"categories\": [\"0\", \"1\", \"2\", \"3\", \"4\", \"5\", \"6\", \"7\", \"8\", \"9\", \"10\", \"11\", \"12\", \"13\", \"14\", \"15\", \"16\", \"17\", \"18\", \"19\", \"20\", \"21\", \"22\", \"24\", \"25\"], \"mode\": \"lines\", \"name\": \"explained_variance_max\", \"stepped\": true, \"type\": \"scatter\", \"data\": [0.8601162209281462, 0.8601162209281462, 0.8627964204805334, 0.8627964204805334, 0.8627964204805334, 0.8627964204805334, 0.8627964204805334, 0.8627964204805334, 0.8627964204805334, 0.8627964204805334, 0.8627964204805334, 0.8627964204805334, 0.8627964204805334, 0.8627964204805334, 0.8627964204805334, 0.8627964204805334, 0.8627964204805334, 0.8627964204805334, 0.8627964204805334, 0.8627964204805334, 0.8627964204805334, 0.8627964204805334, 0.8627964204805334, 0.865066188540415, 0.8653380738092802]}], \"spearman_correlation\": [{\"categories\": [\"0\", \"1\", \"2\", \"3\", \"4\", \"5\", \"6\", \"7\", \"8\", \"9\", \"10\", \"11\", \"12\", \"13\", \"14\", \"15\", \"16\", \"17\", \"18\", \"19\", \"20\", \"21\", \"22\", \"24\", \"25\"], \"mode\": \"markers\", \"name\": \"spearman_correlation\", \"stepped\": false, \"type\": \"scatter\", \"data\": [0.9495665586321553, 0.9488203538856377, 0.9456457325882107, 0.9471920319871778, 0.9396783636405871, 0.8865377315643365, 0.9469320786973701, 0.9457533239834796, 0.9478517231858076, 0.9400812999782613, 0.9458196556862243, 0.9455757711141193, 0.927539726288329, 0.9473443514533576, 0.945499475536175, 0.9456367103687772, 0.9430495639000478, 0.942939774251174, 0.9454155867436288, 0.9459648686476418, 0.9480973674093768, 0.9462398081262051, 0.9458927346534021, 0.9499404215805424, 0.9494647814436485]}, {\"categories\": [\"0\", \"1\", \"2\", \"3\", \"4\", \"5\", \"6\", \"7\", \"8\", \"9\", \"10\", \"11\", \"12\", \"13\", \"14\", \"15\", \"16\", \"17\", \"18\", \"19\", \"20\", \"21\", \"22\", \"24\", \"25\"], \"mode\": \"lines\", \"name\": \"spearman_correlation_max\", \"stepped\": true, \"type\": \"scatter\", \"data\": [0.9495665586321553, 0.9495665586321553, 0.9495665586321553, 0.9495665586321553, 0.9495665586321553, 0.9495665586321553, 0.9495665586321553, 0.9495665586321553, 0.9495665586321553, 0.9495665586321553, 0.9495665586321553, 0.9495665586321553, 0.9495665586321553, 0.9495665586321553, 0.9495665586321553, 0.9495665586321553, 0.9495665586321553, 0.9495665586321553, 0.9495665586321553, 0.9495665586321553, 0.9495665586321553, 0.9495665586321553, 0.9495665586321553, 0.9499404215805424, 0.9499404215805424]}], \"r2_score\": [{\"categories\": [\"0\", \"1\", \"2\", \"3\", \"4\", \"5\", \"6\", \"7\", \"8\", \"9\", \"10\", \"11\", \"12\", \"13\", \"14\", \"15\", \"16\", \"17\", \"18\", \"19\", \"20\", \"21\", \"22\", \"24\", \"25\"], \"mode\": \"markers\", \"name\": \"r2_score\", \"stepped\": false, \"type\": \"scatter\", \"data\": [0.8600748894858036, 0.8590845275993283, 0.862767996455454, 0.8550884809608175, 0.8274558074714371, 0.5685282090727675, 0.8404017444321454, 0.848205876901693, 0.854715120491041, 0.8205624899080675, 0.861594733385657, 0.8627349952696782, 0.6292179208363378, 0.8548549323159242, 0.8495218021485632, 0.8605727758307099, 0.8303236568445612, 0.8547039489088535, 0.8624260633884026, 0.8498623971719864, 0.8557285460263906, 0.8454879888303186, 0.8625128857392742, 0.8650306441252029, 0.8652889963848039]}, {\"categories\": [\"0\", \"1\", \"2\", \"3\", \"4\", \"5\", \"6\", \"7\", \"8\", \"9\", \"10\", \"11\", \"12\", \"13\", \"14\", \"15\", \"16\", \"17\", \"18\", \"19\", \"20\", \"21\", \"22\", \"24\", \"25\"], \"mode\": \"lines\", \"name\": \"r2_score_max\", \"stepped\": true, \"type\": \"scatter\", \"data\": [0.8600748894858036, 0.8600748894858036, 0.862767996455454, 0.862767996455454, 0.862767996455454, 0.862767996455454, 0.862767996455454, 0.862767996455454, 0.862767996455454, 0.862767996455454, 0.862767996455454, 0.862767996455454, 0.862767996455454, 0.862767996455454, 0.862767996455454, 0.862767996455454, 0.862767996455454, 0.862767996455454, 0.862767996455454, 0.862767996455454, 0.862767996455454, 0.862767996455454, 0.862767996455454, 0.8650306441252029, 0.8652889963848039]}], \"normalized_root_mean_squared_error\": [{\"categories\": [\"0\", \"1\", \"2\", \"3\", \"4\", \"5\", \"6\", \"7\", \"8\", \"9\", \"10\", \"11\", \"12\", \"13\", \"14\", \"15\", \"16\", \"17\", \"18\", \"19\", \"20\", \"21\", \"22\", \"24\", \"25\"], \"mode\": \"markers\", \"name\": \"normalized_root_mean_squared_error\", \"stepped\": false, \"type\": \"scatter\", \"data\": [0.020285778754503624, 0.02032178093690336, 0.0200656964569663, 0.020618670016453827, 0.022537132942296617, 0.03553160804022919, 0.02167711689939074, 0.021132695751676523, 0.020674642851963083, 0.02298871454226706, 0.020156776905809637, 0.020067963665972438, 0.03280208659022152, 0.02062615600561369, 0.021042496217412804, 0.020233709917407368, 0.02235056944111995, 0.020670483516647804, 0.02009195625763959, 0.020996822570630465, 0.020601527643030967, 0.021327862844288458, 0.020086433068304328, 0.019916833790160394, 0.019884648558136098]}, {\"categories\": [\"0\", \"1\", \"2\", \"3\", \"4\", \"5\", \"6\", \"7\", \"8\", \"9\", \"10\", \"11\", \"12\", \"13\", \"14\", \"15\", \"16\", \"17\", \"18\", \"19\", \"20\", \"21\", \"22\", \"24\", \"25\"], \"mode\": \"lines\", \"name\": \"normalized_root_mean_squared_error_min\", \"stepped\": true, \"type\": \"scatter\", \"data\": [0.020285778754503624, 0.020285778754503624, 0.0200656964569663, 0.0200656964569663, 0.0200656964569663, 0.0200656964569663, 0.0200656964569663, 0.0200656964569663, 0.0200656964569663, 0.0200656964569663, 0.0200656964569663, 0.0200656964569663, 0.0200656964569663, 0.0200656964569663, 0.0200656964569663, 0.0200656964569663, 0.0200656964569663, 0.0200656964569663, 0.0200656964569663, 0.0200656964569663, 0.0200656964569663, 0.0200656964569663, 0.0200656964569663, 0.019916833790160394, 0.019884648558136098]}], \"root_mean_squared_log_error\": [{\"categories\": [\"0\", \"1\", \"2\", \"3\", \"4\", \"5\", \"6\", \"7\", \"8\", \"9\", \"10\", \"11\", \"12\", \"13\", \"14\", \"15\", \"16\", \"17\", \"18\", \"19\", \"20\", \"21\", \"22\", \"24\", \"25\"], \"mode\": \"markers\", \"name\": \"root_mean_squared_log_error\", \"stepped\": false, \"type\": \"scatter\", \"data\": [0.1695614853862404, 0.17043830628558435, 0.17752567871644354, 0.17233068248718747, 0.19628347505887075, 0.3317675507865382, 0.17575237163705262, 0.17463850203346176, 0.17129364992461552, 0.1838165445317687, 0.18218836291225857, 0.1774657412893001, 0.24490967825818633, 0.17208091461576788, 0.17440725020514541, 0.18464758068069934, 0.18309959693948902, 0.1773114389733556, 0.17951426859320407, 0.17404221589215552, 0.17117740507363083, 0.17545521005681372, 0.17897637656097762, 0.1687083337630108, 0.17001635522622682]}, {\"categories\": [\"0\", \"1\", \"2\", \"3\", \"4\", \"5\", \"6\", \"7\", \"8\", \"9\", \"10\", \"11\", \"12\", \"13\", \"14\", \"15\", \"16\", \"17\", \"18\", \"19\", \"20\", \"21\", \"22\", \"24\", \"25\"], \"mode\": \"lines\", \"name\": \"root_mean_squared_log_error_min\", \"stepped\": true, \"type\": \"scatter\", \"data\": [0.1695614853862404, 0.1695614853862404, 0.1695614853862404, 0.1695614853862404, 0.1695614853862404, 0.1695614853862404, 0.1695614853862404, 0.1695614853862404, 0.1695614853862404, 0.1695614853862404, 0.1695614853862404, 0.1695614853862404, 0.1695614853862404, 0.1695614853862404, 0.1695614853862404, 0.1695614853862404, 0.1695614853862404, 0.1695614853862404, 0.1695614853862404, 0.1695614853862404, 0.1695614853862404, 0.1695614853862404, 0.1695614853862404, 0.1687083337630108, 0.1687083337630108]}], \"mean_absolute_percentage_error\": [{\"categories\": [\"0\", \"1\", \"2\", \"3\", \"4\", \"5\", \"6\", \"7\", \"8\", \"9\", \"10\", \"11\", \"12\", \"13\", \"14\", \"15\", \"16\", \"17\", \"18\", \"19\", \"20\", \"21\", \"22\", \"24\", \"25\"], \"mode\": \"markers\", \"name\": \"mean_absolute_percentage_error\", \"stepped\": false, \"type\": \"scatter\", \"data\": [70.40974182769904, 78.18758136071304, 74.70723349137377, 76.4505309837185, 62.14034655645311, 57.720299834007776, 53.99212512371222, 60.39725140719528, 59.22074691442812, 54.48133375689558, 73.98835037261932, 74.75944138259837, 49.32157683064155, 79.35353501733009, 60.739738379616234, 73.75953059851312, 52.80606965662228, 70.8892998175456, 74.68972132611682, 81.07612486994309, 60.530040635451236, 56.27205191556827, 74.42847301701565, 69.61828938911977, 74.70233672333269]}, {\"categories\": [\"0\", \"1\", \"2\", \"3\", \"4\", \"5\", \"6\", \"7\", \"8\", \"9\", \"10\", \"11\", \"12\", \"13\", \"14\", \"15\", \"16\", \"17\", \"18\", \"19\", \"20\", \"21\", \"22\", \"24\", \"25\"], \"mode\": \"lines\", \"name\": \"mean_absolute_percentage_error_min\", \"stepped\": true, \"type\": \"scatter\", \"data\": [70.40974182769904, 70.40974182769904, 70.40974182769904, 70.40974182769904, 62.14034655645311, 57.720299834007776, 53.99212512371222, 53.99212512371222, 53.99212512371222, 53.99212512371222, 53.99212512371222, 53.99212512371222, 49.32157683064155, 49.32157683064155, 49.32157683064155, 49.32157683064155, 49.32157683064155, 49.32157683064155, 49.32157683064155, 49.32157683064155, 49.32157683064155, 49.32157683064155, 49.32157683064155, 49.32157683064155, 49.32157683064155]}]}, \"metricName\": null, \"primaryMetricName\": \"spearman_correlation\", \"showLegend\": false}, \"run_metrics\": [{\"name\": \"mean_absolute_error\", \"run_id\": \"AutoML_44e803e7-edd8-4ee4-8470-23b47774529a\", \"categories\": [0], \"series\": [{\"data\": [2.0181979003559043]}]}, {\"name\": \"root_mean_squared_error\", \"run_id\": \"AutoML_44e803e7-edd8-4ee4-8470-23b47774529a\", \"categories\": [0], \"series\": [{\"data\": [3.8178578692358456]}]}, {\"name\": \"r2_score\", \"run_id\": \"AutoML_44e803e7-edd8-4ee4-8470-23b47774529a\", \"categories\": [0], \"series\": [{\"data\": [0.8650306441252029]}]}, {\"name\": \"normalized_mean_absolute_error\", \"run_id\": \"AutoML_44e803e7-edd8-4ee4-8470-23b47774529a\", \"categories\": [0], \"series\": [{\"data\": [0.010528446451854056]}]}, {\"name\": \"mean_absolute_percentage_error\", \"run_id\": \"AutoML_44e803e7-edd8-4ee4-8470-23b47774529a\", \"categories\": [0], \"series\": [{\"data\": [69.61828938911977]}]}, {\"name\": \"median_absolute_error\", \"run_id\": \"AutoML_44e803e7-edd8-4ee4-8470-23b47774529a\", \"categories\": [0], \"series\": [{\"data\": [1.2257989200100143]}]}, {\"name\": \"normalized_root_mean_squared_error\", \"run_id\": \"AutoML_44e803e7-edd8-4ee4-8470-23b47774529a\", \"categories\": [0], \"series\": [{\"data\": [0.019916833790160394]}]}, {\"name\": \"explained_variance\", \"run_id\": \"AutoML_44e803e7-edd8-4ee4-8470-23b47774529a\", \"categories\": [0], \"series\": [{\"data\": [0.865066188540415]}]}, {\"name\": \"normalized_median_absolute_error\", \"run_id\": \"AutoML_44e803e7-edd8-4ee4-8470-23b47774529a\", \"categories\": [0], \"series\": [{\"data\": [0.006394694141635007]}]}, {\"name\": \"root_mean_squared_log_error\", \"run_id\": \"AutoML_44e803e7-edd8-4ee4-8470-23b47774529a\", \"categories\": [0], \"series\": [{\"data\": [0.1687083337630108]}]}, {\"name\": \"spearman_correlation\", \"run_id\": \"AutoML_44e803e7-edd8-4ee4-8470-23b47774529a\", \"categories\": [0], \"series\": [{\"data\": [0.9499404215805424]}]}, {\"name\": \"normalized_root_mean_squared_log_error\", \"run_id\": \"AutoML_44e803e7-edd8-4ee4-8470-23b47774529a\", \"categories\": [0], \"series\": [{\"data\": [0.03212767366476534]}]}], \"run_logs\": \"\\nRun is completed.\", \"graph\": {}, \"widget_settings\": {\"childWidgetDisplay\": \"popup\", \"send_telemetry\": false, \"log_level\": \"INFO\", \"sdk_version\": \"1.36.0\"}, \"loading\": false}"
          },
          "metadata": {}
        }
      ],
      "execution_count": 19,
      "metadata": {
        "gather": {
          "logged": 1641715342079
        }
      }
    },
    {
      "cell_type": "markdown",
      "source": [
        "### Retrieve the best model"
      ],
      "metadata": {}
    },
    {
      "cell_type": "markdown",
      "source": [
        "Select the best model from your iterations. The `get_output` function returns the best run and the fitted model for the last fit invocation. By using the overloads on `get_output`, you can retrieve the best run and fitted model for any logged metric or a particular iteration."
      ],
      "metadata": {}
    },
    {
      "cell_type": "code",
      "source": [
        "best_run, fitted_model = local_run.get_output()\n",
        "print(best_run)\n",
        "print(fitted_model)"
      ],
      "outputs": [
        {
          "output_type": "stream",
          "name": "stdout",
          "text": "Run(Experiment: Tutorial-NYCTaxi,\nId: AutoML_44e803e7-edd8-4ee4-8470-23b47774529a_24,\nType: None,\nStatus: Completed)\nRegressionPipeline(pipeline=Pipeline(memory=None,\n                                     steps=[('datatransformer',\n                                             DataTransformer(enable_dnn=False, enable_feature_sweeping=True, feature_sweeping_config={}, feature_sweeping_timeout=86400, featurization_config=None, force_text_dnn=False, is_cross_validation=True, is_onnx_compatible=False, observer=None, task='regression', working_dir='/mnt/batch/ta...\n    gpu_training_param_dict={'processing_unit_type': 'cpu'}\n), random_state=None, reg_alpha=1.275, reg_lambda=0.825, subsample=0.9, subsample_freq=7))], verbose=False))], weights=[0.4666666666666667, 0.06666666666666667, 0.06666666666666667, 0.06666666666666667, 0.06666666666666667, 0.06666666666666667, 0.06666666666666667, 0.06666666666666667, 0.06666666666666667]))],\n                                     verbose=False),\n                   stddev=[3.829772728963007])\n"
        }
      ],
      "execution_count": 20,
      "metadata": {
        "gather": {
          "logged": 1641715342521
        }
      }
    },
    {
      "cell_type": "markdown",
      "source": [
        "### Test the best model accuracy"
      ],
      "metadata": {}
    },
    {
      "cell_type": "markdown",
      "source": [
        "Use the best model to run predictions on the test data set to predict taxi fares. The function `predict` uses the best model and predicts the values of y, **trip cost**, from the `x_test` data set. Print the first 10 predicted cost values from `y_predict`."
      ],
      "metadata": {}
    },
    {
      "cell_type": "code",
      "source": [
        "y_test = x_test.pop(\"totalAmount\")\n",
        "\n",
        "y_predict = fitted_model.predict(x_test)\n",
        "print(y_predict[:10])"
      ],
      "outputs": [
        {
          "output_type": "stream",
          "name": "stdout",
          "text": "[12.54276806 11.32192895 13.75267329  8.27077287 15.0324912   6.66122514\n 21.84323776 14.15612195 11.51693388 14.69298837]\n"
        }
      ],
      "execution_count": 21,
      "metadata": {
        "gather": {
          "logged": 1641715343286
        }
      }
    },
    {
      "cell_type": "markdown",
      "source": [
        "Calculate the `root mean squared error` of the results. Convert the `y_test` dataframe to a list to compare to the predicted values. The function `mean_squared_error` takes two arrays of values and calculates the average squared error between them. Taking the square root of the result gives an error in the same units as the y variable, **cost**. It indicates roughly how far the taxi fare predictions are from the actual fares."
      ],
      "metadata": {}
    },
    {
      "cell_type": "code",
      "source": [
        "from sklearn.metrics import mean_squared_error\n",
        "from math import sqrt\n",
        "\n",
        "y_actual = y_test.values.flatten().tolist()\n",
        "rmse = sqrt(mean_squared_error(y_actual, y_predict))\n",
        "rmse"
      ],
      "outputs": [
        {
          "output_type": "execute_result",
          "execution_count": 22,
          "data": {
            "text/plain": "3.5336440390880193"
          },
          "metadata": {}
        }
      ],
      "execution_count": 22,
      "metadata": {
        "gather": {
          "logged": 1641715343547
        }
      }
    },
    {
      "cell_type": "markdown",
      "source": [
        "Run the following code to calculate mean absolute percent error (MAPE) by using the full `y_actual` and `y_predict` data sets. This metric calculates an absolute difference between each predicted and actual value and sums all the differences. Then it expresses that sum as a percent of the total of the actual values."
      ],
      "metadata": {}
    },
    {
      "cell_type": "code",
      "source": [
        "sum_actuals = sum_errors = 0\n",
        "\n",
        "for actual_val, predict_val in zip(y_actual, y_predict):\n",
        "    abs_error = actual_val - predict_val\n",
        "    if abs_error < 0:\n",
        "        abs_error = abs_error * -1\n",
        "\n",
        "    sum_errors = sum_errors + abs_error\n",
        "    sum_actuals = sum_actuals + actual_val\n",
        "\n",
        "mean_abs_percent_error = sum_errors / sum_actuals\n",
        "print(\"Model MAPE:\")\n",
        "print(mean_abs_percent_error)\n",
        "print()\n",
        "print(\"Model Accuracy:\")\n",
        "print(1 - mean_abs_percent_error)"
      ],
      "outputs": [
        {
          "output_type": "stream",
          "name": "stdout",
          "text": "Model MAPE:\n0.13093205448143924\n\nModel Accuracy:\n0.8690679455185608\n"
        }
      ],
      "execution_count": 23,
      "metadata": {
        "gather": {
          "logged": 1641715343740
        }
      }
    },
    {
      "cell_type": "markdown",
      "source": [
        "From the two prediction accuracy metrics, you see that the model is fairly good at predicting taxi fares from the data set's features, typically within +- $4.00, and approximately 15% error. \n",
        "\n",
        "The traditional machine learning model development process is highly resource-intensive, and requires significant domain knowledge and time investment to run and compare the results of dozens of models. Using automated machine learning is a great way to rapidly test many different models for your scenario."
      ],
      "metadata": {}
    },
    {
      "cell_type": "code",
      "source": [
        "from azureml.interpret import ExplanationClient\r\n",
        "\r\n",
        "client = ExplanationClient.from_run(best_run)\r\n",
        "engineered_explanations = client.download_model_explanation(raw=False)\r\n",
        "print(engineered_explanations.get_feature_importance_dict())"
      ],
      "outputs": [
        {
          "output_type": "stream",
          "name": "stderr",
          "text": "2022-01-09:08:02:24,562 INFO     [explanation_client.py:332] Using default datastore for uploads\n"
        },
        {
          "output_type": "stream",
          "name": "stdout",
          "text": "{'tripDistance_MeanImputer': 6.9709498391900055, '__index_level_0___ModeCatImputer_Hour': 0.3652550208143672, '__index_level_0___ModeCatImputer_DayOfWeek': 0.1999265585672325, '__index_level_0___ModeCatImputer_DayOfYear': 0.08355592060091525, '__index_level_0___ModeCatImputer_Minute': 0.04313071664462477, '__index_level_0___ModeCatImputer_Day': 0.037896085603609776, '__index_level_0___ModeCatImputer_Month': 0.03284310873407971, '__index_level_0___ModeCatImputer_Second': 0.0323609763062722, 'vendorID_ModeCatImputer_LabelEncoder': 0.006505306328075415, 'passengerCount_CharGramCountVectorizer_1': 0.0057434704648023594, 'passengerCount_CharGramCountVectorizer_6': 0.0033266301222509747, 'passengerCount_CharGramCountVectorizer_3': 0.0019003138545717725, 'lpepPickupDatetime_ModeCatImputer_Month': 0.0, '__index_level_0___ModeCatImputer_QuarterOfYear': 0.0, '__index_level_0___ModeCatImputer_WeekOfMonth': 0.0, 'lpepPickupDatetime_ModeCatImputer_Year': 0.0, 'lpepPickupDatetime_ModeCatImputer_DayOfYear': 0.0, 'lpepPickupDatetime_ModeCatImputer_Day': 0.0, 'lpepPickupDatetime_ModeCatImputer_DayOfWeek': 0.0, 'lpepPickupDatetime_ModeCatImputer_QuarterOfYear': 0.0, 'lpepPickupDatetime_ModeCatImputer_WeekOfMonth': 0.0, 'lpepPickupDatetime_ModeCatImputer_Hour': 0.0, 'lpepPickupDatetime_ModeCatImputer_Minute': 0.0, 'lpepPickupDatetime_ModeCatImputer_Second': 0.0, 'passengerCount_CharGramCountVectorizer_2': 0.0, 'passengerCount_CharGramCountVectorizer_4': 0.0, 'passengerCount_CharGramCountVectorizer_5': 0.0, 'passengerCount_CharGramCountVectorizer_7': 0.0, '__index_level_0___ModeCatImputer_Year': 0.0}\n"
        }
      ],
      "execution_count": 24,
      "metadata": {
        "jupyter": {
          "source_hidden": false,
          "outputs_hidden": false
        },
        "nteract": {
          "transient": {
            "deleting": false
          }
        },
        "gather": {
          "logged": 1641715344276
        }
      }
    },
    {
      "cell_type": "code",
      "source": [
        "from azureml.interpret import ExplanationClient\r\n",
        "\r\n",
        "client = ExplanationClient.from_run(best_run)\r\n",
        "raw_explanations = client.download_model_explanation(raw=True)\r\n",
        "print(raw_explanations.get_feature_importance_dict())"
      ],
      "outputs": [
        {
          "output_type": "stream",
          "name": "stderr",
          "text": "2022-01-09:08:10:37,281 INFO     [explanation_client.py:332] Using default datastore for uploads\n"
        },
        {
          "output_type": "stream",
          "name": "stdout",
          "text": "{'tripDistance': 6.9709498391900055, '__index_level_0__': 0.4700175979301062, 'passengerCount': 0.010181031873355898, 'vendorID': 0.006505306328075415, 'lpepPickupDatetime': 0.0}\n"
        }
      ],
      "execution_count": 25,
      "metadata": {
        "jupyter": {
          "source_hidden": false,
          "outputs_hidden": false
        },
        "nteract": {
          "transient": {
            "deleting": false
          }
        },
        "gather": {
          "logged": 1641715839429
        }
      }
    },
    {
      "cell_type": "code",
      "source": [
        "automl_run, fitted_model = local_run.get_output(metric='Accuracy')"
      ],
      "outputs": [
        {
          "output_type": "error",
          "ename": "ConfigException",
          "evalue": "ConfigException:\n\tMessage: An invalid value for argument [metric] was provided.\n\tInnerException: None\n\tErrorResponse \n{\n    \"error\": {\n        \"code\": \"UserError\",\n        \"message\": \"An invalid value for argument [metric] was provided.\",\n        \"target\": \"metric\",\n        \"inner_error\": {\n            \"code\": \"BadArgument\"\n        }\n    }\n}",
          "traceback": [
            "\u001b[0;31m---------------------------------------------------------------------------\u001b[0m",
            "\u001b[0;31mConfigException\u001b[0m                           Traceback (most recent call last)",
            "\u001b[0;32m<ipython-input-28-05a09e1abd89>\u001b[0m in \u001b[0;36m<module>\u001b[0;34m\u001b[0m\n\u001b[0;32m----> 1\u001b[0;31m \u001b[0mautoml_run\u001b[0m\u001b[0;34m,\u001b[0m \u001b[0mfitted_model\u001b[0m \u001b[0;34m=\u001b[0m \u001b[0mlocal_run\u001b[0m\u001b[0;34m.\u001b[0m\u001b[0mget_output\u001b[0m\u001b[0;34m(\u001b[0m\u001b[0mmetric\u001b[0m\u001b[0;34m=\u001b[0m\u001b[0;34m'Accuracy'\u001b[0m\u001b[0;34m)\u001b[0m\u001b[0;34m\u001b[0m\u001b[0;34m\u001b[0m\u001b[0m\n\u001b[0m",
            "\u001b[0;32m/anaconda/envs/azureml_py36/lib/python3.6/site-packages/azureml/train/automl/run.py\u001b[0m in \u001b[0;36mget_output\u001b[0;34m(self, iteration, metric, return_onnx_model, return_split_onnx_model, **kwargs)\u001b[0m\n\u001b[1;32m    710\u001b[0m                     \u001b[0monnx_compatible\u001b[0m\u001b[0;34m=\u001b[0m\u001b[0mreturn_onnx_model\u001b[0m\u001b[0;34m,\u001b[0m\u001b[0;34m\u001b[0m\u001b[0;34m\u001b[0m\u001b[0m\n\u001b[1;32m    711\u001b[0m                     \u001b[0msplit_onnx_model_name\u001b[0m\u001b[0;34m=\u001b[0m\u001b[0mreturn_split_onnx_model\u001b[0m\u001b[0;34m,\u001b[0m\u001b[0;34m\u001b[0m\u001b[0;34m\u001b[0m\u001b[0m\n\u001b[0;32m--> 712\u001b[0;31m                     \u001b[0mactivity_name\u001b[0m\u001b[0;34m=\u001b[0m\u001b[0mautoml_shared_constants\u001b[0m\u001b[0;34m.\u001b[0m\u001b[0mTelemetryConstants\u001b[0m\u001b[0;34m.\u001b[0m\u001b[0mGET_OUTPUT\u001b[0m\u001b[0;34m\u001b[0m\u001b[0;34m\u001b[0m\u001b[0m\n\u001b[0m\u001b[1;32m    713\u001b[0m                 )\n\u001b[1;32m    714\u001b[0m \u001b[0;34m\u001b[0m\u001b[0m\n",
            "\u001b[0;32m/anaconda/envs/azureml_py36/lib/python3.6/site-packages/azureml/train/automl/run.py\u001b[0m in \u001b[0;36m_get_best_child_run\u001b[0;34m(self, iteration, metric, onnx_compatible, split_onnx_model_name, activity_name)\u001b[0m\n\u001b[1;32m    637\u001b[0m                     )\n\u001b[1;32m    638\u001b[0m                 \u001b[0;32melse\u001b[0m\u001b[0;34m:\u001b[0m\u001b[0;34m\u001b[0m\u001b[0;34m\u001b[0m\u001b[0m\n\u001b[0;32m--> 639\u001b[0;31m                     \u001b[0mcurr_run\u001b[0m \u001b[0;34m=\u001b[0m \u001b[0mself\u001b[0m\u001b[0;34m.\u001b[0m\u001b[0m_get_run_internal\u001b[0m\u001b[0;34m(\u001b[0m\u001b[0miteration\u001b[0m\u001b[0;34m,\u001b[0m \u001b[0mmetric\u001b[0m\u001b[0;34m,\u001b[0m \u001b[0;34m\"get_output\"\u001b[0m\u001b[0;34m)\u001b[0m\u001b[0;34m\u001b[0m\u001b[0;34m\u001b[0m\u001b[0m\n\u001b[0m\u001b[1;32m    640\u001b[0m                     \u001b[0;32mif\u001b[0m \u001b[0mcurr_run\u001b[0m \u001b[0;32mis\u001b[0m \u001b[0;32mNone\u001b[0m\u001b[0;34m:\u001b[0m\u001b[0;34m\u001b[0m\u001b[0;34m\u001b[0m\u001b[0m\n\u001b[1;32m    641\u001b[0m                         raise NotFoundException._with_error(\n",
            "\u001b[0;32m/anaconda/envs/azureml_py36/lib/python3.6/site-packages/azureml/train/automl/run.py\u001b[0m in \u001b[0;36m_get_run_internal\u001b[0;34m(self, iteration, metric, operation_name)\u001b[0m\n\u001b[1;32m    793\u001b[0m                 \u001b[0mcurr_run\u001b[0m \u001b[0;34m=\u001b[0m \u001b[0mself\u001b[0m\u001b[0;34m.\u001b[0m\u001b[0m_get_automl_child_iteration\u001b[0m\u001b[0;34m(\u001b[0m\u001b[0miteration\u001b[0m\u001b[0;34m,\u001b[0m \u001b[0mparent_tags\u001b[0m\u001b[0;34m=\u001b[0m\u001b[0mrun_tags\u001b[0m\u001b[0;34m)\u001b[0m\u001b[0;34m\u001b[0m\u001b[0;34m\u001b[0m\u001b[0m\n\u001b[1;32m    794\u001b[0m             \u001b[0;32melif\u001b[0m \u001b[0mmetric\u001b[0m \u001b[0;32mis\u001b[0m \u001b[0;32mnot\u001b[0m \u001b[0;32mNone\u001b[0m \u001b[0;32mand\u001b[0m \u001b[0mmetric\u001b[0m \u001b[0;34m!=\u001b[0m \u001b[0mautoml_settings\u001b[0m\u001b[0;34m.\u001b[0m\u001b[0mprimary_metric\u001b[0m\u001b[0;34m:\u001b[0m\u001b[0;34m\u001b[0m\u001b[0;34m\u001b[0m\u001b[0m\n\u001b[0;32m--> 795\u001b[0;31m                 \u001b[0mchild_runs_and_scores\u001b[0m \u001b[0;34m=\u001b[0m \u001b[0mself\u001b[0m\u001b[0;34m.\u001b[0m\u001b[0m_get_all_automl_child_runs\u001b[0m\u001b[0;34m(\u001b[0m\u001b[0mmetric\u001b[0m\u001b[0;34m)\u001b[0m\u001b[0;34m\u001b[0m\u001b[0;34m\u001b[0m\u001b[0m\n\u001b[0m\u001b[1;32m    796\u001b[0m                 \u001b[0mcurr_run\u001b[0m \u001b[0;34m=\u001b[0m \u001b[0mchild_runs_and_scores\u001b[0m\u001b[0;34m[\u001b[0m\u001b[0;36m0\u001b[0m\u001b[0;34m]\u001b[0m\u001b[0;34m[\u001b[0m\u001b[0;36m0\u001b[0m\u001b[0;34m]\u001b[0m\u001b[0;34m\u001b[0m\u001b[0;34m\u001b[0m\u001b[0m\n\u001b[1;32m    797\u001b[0m             \u001b[0;32melse\u001b[0m\u001b[0;34m:\u001b[0m\u001b[0;34m\u001b[0m\u001b[0;34m\u001b[0m\u001b[0m\n",
            "\u001b[0;32m/anaconda/envs/azureml_py36/lib/python3.6/site-packages/azureml/train/automl/run.py\u001b[0m in \u001b[0;36m_get_all_automl_child_runs\u001b[0;34m(self, metric)\u001b[0m\n\u001b[1;32m    822\u001b[0m         \u001b[0;32melse\u001b[0m\u001b[0;34m:\u001b[0m\u001b[0;34m\u001b[0m\u001b[0;34m\u001b[0m\u001b[0m\n\u001b[1;32m    823\u001b[0m             raise ConfigException._with_error(\n\u001b[0;32m--> 824\u001b[0;31m                 \u001b[0mAzureMLError\u001b[0m\u001b[0;34m.\u001b[0m\u001b[0mcreate\u001b[0m\u001b[0;34m(\u001b[0m\u001b[0mBadArgument\u001b[0m\u001b[0;34m,\u001b[0m \u001b[0mtarget\u001b[0m\u001b[0;34m=\u001b[0m\u001b[0;34m\"metric\"\u001b[0m\u001b[0;34m,\u001b[0m \u001b[0margument_name\u001b[0m\u001b[0;34m=\u001b[0m\u001b[0;34m\"metric\"\u001b[0m\u001b[0;34m)\u001b[0m\u001b[0;34m\u001b[0m\u001b[0;34m\u001b[0m\u001b[0m\n\u001b[0m\u001b[1;32m    825\u001b[0m             )\n\u001b[1;32m    826\u001b[0m \u001b[0;34m\u001b[0m\u001b[0m\n",
            "\u001b[0;31mConfigException\u001b[0m: ConfigException:\n\tMessage: An invalid value for argument [metric] was provided.\n\tInnerException: None\n\tErrorResponse \n{\n    \"error\": {\n        \"code\": \"UserError\",\n        \"message\": \"An invalid value for argument [metric] was provided.\",\n        \"target\": \"metric\",\n        \"inner_error\": {\n            \"code\": \"BadArgument\"\n        }\n    }\n}"
          ]
        }
      ],
      "execution_count": 28,
      "metadata": {
        "jupyter": {
          "source_hidden": false,
          "outputs_hidden": false
        },
        "nteract": {
          "transient": {
            "deleting": false
          }
        }
      }
    },
    {
      "cell_type": "code",
      "source": [
        "from azureml.train.automl.runtime.automl_explain_utilities import automl_setup_model_explanations\r\n",
        "\r\n",
        "automl_explainer_setup_obj = automl_setup_model_explanations(fitted_model, X=X_train, \r\n",
        "                                                             X_test=X_test, y=y_train, \r\n",
        "                                                             task='classification')"
      ],
      "outputs": [
        {
          "output_type": "error",
          "ename": "NameError",
          "evalue": "name 'X_train' is not defined",
          "traceback": [
            "\u001b[0;31m---------------------------------------------------------------------------\u001b[0m",
            "\u001b[0;31mNameError\u001b[0m                                 Traceback (most recent call last)",
            "\u001b[0;32m<ipython-input-27-1ad6f2a45889>\u001b[0m in \u001b[0;36m<module>\u001b[0;34m\u001b[0m\n\u001b[1;32m      1\u001b[0m \u001b[0;32mfrom\u001b[0m \u001b[0mazureml\u001b[0m\u001b[0;34m.\u001b[0m\u001b[0mtrain\u001b[0m\u001b[0;34m.\u001b[0m\u001b[0mautoml\u001b[0m\u001b[0;34m.\u001b[0m\u001b[0mruntime\u001b[0m\u001b[0;34m.\u001b[0m\u001b[0mautoml_explain_utilities\u001b[0m \u001b[0;32mimport\u001b[0m \u001b[0mautoml_setup_model_explanations\u001b[0m\u001b[0;34m\u001b[0m\u001b[0;34m\u001b[0m\u001b[0m\n\u001b[1;32m      2\u001b[0m \u001b[0;34m\u001b[0m\u001b[0m\n\u001b[0;32m----> 3\u001b[0;31m automl_explainer_setup_obj = automl_setup_model_explanations(fitted_model, X=X_train, \n\u001b[0m\u001b[1;32m      4\u001b[0m                                                              \u001b[0mX_test\u001b[0m\u001b[0;34m=\u001b[0m\u001b[0mX_test\u001b[0m\u001b[0;34m,\u001b[0m \u001b[0my\u001b[0m\u001b[0;34m=\u001b[0m\u001b[0my_train\u001b[0m\u001b[0;34m,\u001b[0m\u001b[0;34m\u001b[0m\u001b[0;34m\u001b[0m\u001b[0m\n\u001b[1;32m      5\u001b[0m                                                              task='classification')\n",
            "\u001b[0;31mNameError\u001b[0m: name 'X_train' is not defined"
          ]
        }
      ],
      "execution_count": 27,
      "metadata": {
        "jupyter": {
          "source_hidden": false,
          "outputs_hidden": false
        },
        "nteract": {
          "transient": {
            "deleting": false
          }
        }
      }
    },
    {
      "cell_type": "markdown",
      "source": [
        "## Clean up resources"
      ],
      "metadata": {}
    },
    {
      "cell_type": "markdown",
      "source": [
        "Do not complete this section if you plan on running other Azure Machine Learning service tutorials."
      ],
      "metadata": {}
    },
    {
      "cell_type": "markdown",
      "source": [
        "### Stop the notebook VM"
      ],
      "metadata": {}
    },
    {
      "cell_type": "markdown",
      "source": [
        "If you used a cloud notebook server, stop the VM when you are not using it to reduce cost."
      ],
      "metadata": {}
    },
    {
      "cell_type": "markdown",
      "source": [
        "1. In your workspace, select **Compute**.\n",
        "1. Select the **Notebook VMs** tab in the compute page.\n",
        "1. From the list, select the VM.\n",
        "1. Select **Stop**.\n",
        "1. When you're ready to use the server again, select **Start**."
      ],
      "metadata": {}
    },
    {
      "cell_type": "markdown",
      "source": [
        "### Delete everything"
      ],
      "metadata": {}
    },
    {
      "cell_type": "markdown",
      "source": [
        "If you don't plan to use the resources you created, delete them, so you don't incur any charges."
      ],
      "metadata": {}
    },
    {
      "cell_type": "markdown",
      "source": [
        "1. In the Azure portal, select **Resource groups** on the far left.\n",
        "1. From the list, select the resource group you created.\n",
        "1. Select **Delete resource group**.\n",
        "1. Enter the resource group name. Then select **Delete**.\n",
        "\n",
        "You can also keep the resource group but delete a single workspace. Display the workspace properties and select **Delete**."
      ],
      "metadata": {}
    },
    {
      "cell_type": "markdown",
      "source": [
        "## Next steps"
      ],
      "metadata": {}
    },
    {
      "cell_type": "markdown",
      "source": [
        "In this automated machine learning tutorial, you did the following tasks:\n",
        "\n",
        "> * Configured a workspace and prepared data for an experiment.\n",
        "> * Trained by using an automated regression model locally with custom parameters.\n",
        "> * Explored and reviewed training results.\n",
        "\n",
        "[Deploy your model](https://docs.microsoft.com/azure/machine-learning/service/tutorial-deploy-models-with-aml) with Azure Machine Learning service."
      ],
      "metadata": {}
    },
    {
      "cell_type": "code",
      "source": [],
      "outputs": [],
      "execution_count": null,
      "metadata": {}
    }
  ],
  "metadata": {
    "authors": [
      {
        "name": "jeffshep"
      }
    ],
    "microsoft": {
      "host": {
        "AzureML": {
          "notebookHasBeenCompleted": true
        }
      }
    },
    "network_required": false,
    "kernel_info": {
      "name": "python3-azureml"
    },
    "msauthor": "trbye",
    "language_info": {
      "name": "python",
      "version": "3.6.9",
      "mimetype": "text/x-python",
      "codemirror_mode": {
        "name": "ipython",
        "version": 3
      },
      "pygments_lexer": "ipython3",
      "nbconvert_exporter": "python",
      "file_extension": ".py"
    },
    "kernelspec": {
      "name": "python3-azureml",
      "language": "python",
      "display_name": "Python 3.6 - AzureML"
    },
    "categories": [
      "tutorials"
    ],
    "nteract": {
      "version": "nteract-front-end@1.0.0"
    }
  },
  "nbformat": 4,
  "nbformat_minor": 2
}